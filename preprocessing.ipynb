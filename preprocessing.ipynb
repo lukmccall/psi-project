{
 "cells": [
  {
   "cell_type": "markdown",
   "metadata": {},
   "source": [
    "# Przygotowanie"
   ]
  },
  {
   "cell_type": "code",
   "execution_count": 1,
   "metadata": {},
   "outputs": [],
   "source": [
    "import pandas as pd\n",
    "import os\n",
    "import re\n",
    "import nltk\n",
    "from nltk.corpus import stopwords\n",
    "import matplotlib.pyplot as plt\n",
    "from sklearn.model_selection import train_test_split\n",
    "import gensim\n",
    "import logging\n",
    "from collections import defaultdict \n",
    "import tensorflow"
   ]
  },
  {
   "cell_type": "markdown",
   "metadata": {},
   "source": [
    "Na początku zdefiniujmy sobie kilka zmiennych globalnych takich jak:\n",
    "- DATASET_PATH - ścieżkę do pliku z tweetami\n",
    "- W2V_MODEL_PATH - gdzie ma zostać zapisany model w2v\n",
    "\n",
    "- DATASET_COLUMNS - nazwy kolumn\n",
    "- DATASET_ENCODING - typ kodowaniu wykorzystany w naszym datasecie"
   ]
  },
  {
   "cell_type": "code",
   "execution_count": 2,
   "metadata": {},
   "outputs": [],
   "source": [
    "from const import DATASET_PATH, W2V_MODEL_PATH, PREPROCESSED_TEST_PATH, PREPROCESSED_TRAIN_PATH\n",
    "DATASET_COLUMNS = [\"target\", \"ids\", \"date\", \"flag\", \"user\", \"text\"]\n",
    "DATASET_ENCODING = \"ISO-8859-1\""
   ]
  },
  {
   "cell_type": "markdown",
   "metadata": {},
   "source": [
    "# Wczytanie danych"
   ]
  },
  {
   "cell_type": "markdown",
   "metadata": {},
   "source": [
    "Możemy teraz wczytać nasz dataset. Jako, że tweety znajdują się w pliku `csv` możemy do tego użyć wbudowanej funkcji z bilbioteki `pandas`."
   ]
  },
  {
   "cell_type": "code",
   "execution_count": 3,
   "metadata": {},
   "outputs": [],
   "source": [
    "df = pd.read_csv(os.path.abspath(DATASET_PATH), encoding = DATASET_ENCODING , names = DATASET_COLUMNS)"
   ]
  },
  {
   "cell_type": "markdown",
   "metadata": {},
   "source": [
    "Łatwo możemy sprawdzić z ilą danymi mamy tak naprawdę doczynienia:"
   ]
  },
  {
   "cell_type": "code",
   "execution_count": 4,
   "metadata": {},
   "outputs": [
    {
     "data": {
      "text/plain": [
       "(1600000, 6)"
      ]
     },
     "execution_count": 4,
     "metadata": {},
     "output_type": "execute_result"
    }
   ],
   "source": [
    "df.shape"
   ]
  },
  {
   "cell_type": "markdown",
   "metadata": {},
   "source": [
    "Widmimy, że nasz zbiór danych składa się z 1600000 wierszy po 6 kolumn.\n",
    "\n",
    "Wyświetlmy sobie teraz pierwsze 10 wierszy naszego setu:"
   ]
  },
  {
   "cell_type": "code",
   "execution_count": 5,
   "metadata": {},
   "outputs": [
    {
     "data": {
      "text/html": [
       "<div>\n",
       "<style scoped>\n",
       "    .dataframe tbody tr th:only-of-type {\n",
       "        vertical-align: middle;\n",
       "    }\n",
       "\n",
       "    .dataframe tbody tr th {\n",
       "        vertical-align: top;\n",
       "    }\n",
       "\n",
       "    .dataframe thead th {\n",
       "        text-align: right;\n",
       "    }\n",
       "</style>\n",
       "<table border=\"1\" class=\"dataframe\">\n",
       "  <thead>\n",
       "    <tr style=\"text-align: right;\">\n",
       "      <th></th>\n",
       "      <th>target</th>\n",
       "      <th>ids</th>\n",
       "      <th>date</th>\n",
       "      <th>flag</th>\n",
       "      <th>user</th>\n",
       "      <th>text</th>\n",
       "    </tr>\n",
       "  </thead>\n",
       "  <tbody>\n",
       "    <tr>\n",
       "      <th>0</th>\n",
       "      <td>0</td>\n",
       "      <td>1467810369</td>\n",
       "      <td>Mon Apr 06 22:19:45 PDT 2009</td>\n",
       "      <td>NO_QUERY</td>\n",
       "      <td>_TheSpecialOne_</td>\n",
       "      <td>@switchfoot http://twitpic.com/2y1zl - Awww, t...</td>\n",
       "    </tr>\n",
       "    <tr>\n",
       "      <th>1</th>\n",
       "      <td>0</td>\n",
       "      <td>1467810672</td>\n",
       "      <td>Mon Apr 06 22:19:49 PDT 2009</td>\n",
       "      <td>NO_QUERY</td>\n",
       "      <td>scotthamilton</td>\n",
       "      <td>is upset that he can't update his Facebook by ...</td>\n",
       "    </tr>\n",
       "    <tr>\n",
       "      <th>2</th>\n",
       "      <td>0</td>\n",
       "      <td>1467810917</td>\n",
       "      <td>Mon Apr 06 22:19:53 PDT 2009</td>\n",
       "      <td>NO_QUERY</td>\n",
       "      <td>mattycus</td>\n",
       "      <td>@Kenichan I dived many times for the ball. Man...</td>\n",
       "    </tr>\n",
       "    <tr>\n",
       "      <th>3</th>\n",
       "      <td>0</td>\n",
       "      <td>1467811184</td>\n",
       "      <td>Mon Apr 06 22:19:57 PDT 2009</td>\n",
       "      <td>NO_QUERY</td>\n",
       "      <td>ElleCTF</td>\n",
       "      <td>my whole body feels itchy and like its on fire</td>\n",
       "    </tr>\n",
       "    <tr>\n",
       "      <th>4</th>\n",
       "      <td>0</td>\n",
       "      <td>1467811193</td>\n",
       "      <td>Mon Apr 06 22:19:57 PDT 2009</td>\n",
       "      <td>NO_QUERY</td>\n",
       "      <td>Karoli</td>\n",
       "      <td>@nationwideclass no, it's not behaving at all....</td>\n",
       "    </tr>\n",
       "    <tr>\n",
       "      <th>5</th>\n",
       "      <td>0</td>\n",
       "      <td>1467811372</td>\n",
       "      <td>Mon Apr 06 22:20:00 PDT 2009</td>\n",
       "      <td>NO_QUERY</td>\n",
       "      <td>joy_wolf</td>\n",
       "      <td>@Kwesidei not the whole crew</td>\n",
       "    </tr>\n",
       "    <tr>\n",
       "      <th>6</th>\n",
       "      <td>0</td>\n",
       "      <td>1467811592</td>\n",
       "      <td>Mon Apr 06 22:20:03 PDT 2009</td>\n",
       "      <td>NO_QUERY</td>\n",
       "      <td>mybirch</td>\n",
       "      <td>Need a hug</td>\n",
       "    </tr>\n",
       "    <tr>\n",
       "      <th>7</th>\n",
       "      <td>0</td>\n",
       "      <td>1467811594</td>\n",
       "      <td>Mon Apr 06 22:20:03 PDT 2009</td>\n",
       "      <td>NO_QUERY</td>\n",
       "      <td>coZZ</td>\n",
       "      <td>@LOLTrish hey  long time no see! Yes.. Rains a...</td>\n",
       "    </tr>\n",
       "    <tr>\n",
       "      <th>8</th>\n",
       "      <td>0</td>\n",
       "      <td>1467811795</td>\n",
       "      <td>Mon Apr 06 22:20:05 PDT 2009</td>\n",
       "      <td>NO_QUERY</td>\n",
       "      <td>2Hood4Hollywood</td>\n",
       "      <td>@Tatiana_K nope they didn't have it</td>\n",
       "    </tr>\n",
       "    <tr>\n",
       "      <th>9</th>\n",
       "      <td>0</td>\n",
       "      <td>1467812025</td>\n",
       "      <td>Mon Apr 06 22:20:09 PDT 2009</td>\n",
       "      <td>NO_QUERY</td>\n",
       "      <td>mimismo</td>\n",
       "      <td>@twittera que me muera ?</td>\n",
       "    </tr>\n",
       "  </tbody>\n",
       "</table>\n",
       "</div>"
      ],
      "text/plain": [
       "   target         ids                          date      flag  \\\n",
       "0       0  1467810369  Mon Apr 06 22:19:45 PDT 2009  NO_QUERY   \n",
       "1       0  1467810672  Mon Apr 06 22:19:49 PDT 2009  NO_QUERY   \n",
       "2       0  1467810917  Mon Apr 06 22:19:53 PDT 2009  NO_QUERY   \n",
       "3       0  1467811184  Mon Apr 06 22:19:57 PDT 2009  NO_QUERY   \n",
       "4       0  1467811193  Mon Apr 06 22:19:57 PDT 2009  NO_QUERY   \n",
       "5       0  1467811372  Mon Apr 06 22:20:00 PDT 2009  NO_QUERY   \n",
       "6       0  1467811592  Mon Apr 06 22:20:03 PDT 2009  NO_QUERY   \n",
       "7       0  1467811594  Mon Apr 06 22:20:03 PDT 2009  NO_QUERY   \n",
       "8       0  1467811795  Mon Apr 06 22:20:05 PDT 2009  NO_QUERY   \n",
       "9       0  1467812025  Mon Apr 06 22:20:09 PDT 2009  NO_QUERY   \n",
       "\n",
       "              user                                               text  \n",
       "0  _TheSpecialOne_  @switchfoot http://twitpic.com/2y1zl - Awww, t...  \n",
       "1    scotthamilton  is upset that he can't update his Facebook by ...  \n",
       "2         mattycus  @Kenichan I dived many times for the ball. Man...  \n",
       "3          ElleCTF    my whole body feels itchy and like its on fire   \n",
       "4           Karoli  @nationwideclass no, it's not behaving at all....  \n",
       "5         joy_wolf                      @Kwesidei not the whole crew   \n",
       "6          mybirch                                        Need a hug   \n",
       "7             coZZ  @LOLTrish hey  long time no see! Yes.. Rains a...  \n",
       "8  2Hood4Hollywood               @Tatiana_K nope they didn't have it   \n",
       "9          mimismo                          @twittera que me muera ?   "
      ]
     },
     "execution_count": 5,
     "metadata": {},
     "output_type": "execute_result"
    }
   ],
   "source": [
    "df.head(10)"
   ]
  },
  {
   "cell_type": "markdown",
   "metadata": {},
   "source": [
    "Od razu widzimy, że niektóre z kolumn nam się nie przydadzą w dalszej analizie. Więc możemy spokojnie je usnąć."
   ]
  },
  {
   "cell_type": "code",
   "execution_count": 6,
   "metadata": {},
   "outputs": [],
   "source": [
    "df = df.drop(columns=[\"ids\", \"date\", \"flag\", \"user\"])"
   ]
  },
  {
   "cell_type": "markdown",
   "metadata": {},
   "source": [
    "Zostawiliśmy tylko dwie kolumny: `target` oraz `test`. Pierwsza z nich odpowiada emocją jakie niesie za sobą dany tweet. `0` oznacza negatywną wiadomość natomiast `4` odpowiada wiadomości pozytywnej. Teoreytcznie wartość `2` oznaczała by widomość neutralną. Jednak jak łatwo sprawdzić taka wartość nie występuje w tym zbiorze. "
   ]
  },
  {
   "cell_type": "code",
   "execution_count": 7,
   "metadata": {},
   "outputs": [
    {
     "data": {
      "text/plain": [
       "array([0, 4], dtype=int64)"
      ]
     },
     "execution_count": 7,
     "metadata": {},
     "output_type": "execute_result"
    }
   ],
   "source": [
    "df.target.unique()"
   ]
  },
  {
   "cell_type": "markdown",
   "metadata": {},
   "source": [
    "# Czyszczenie treści tweetów"
   ]
  },
  {
   "cell_type": "markdown",
   "metadata": {},
   "source": [
    "Musimy oczyścić treść posów z:\n",
    "- linków \n",
    "- nazw użytkowników\n",
    "- znaków specjalnych\n",
    "- hashtagów\n",
    "\n",
    "W tym celu posłużymy się wyrażeniami regularnymi."
   ]
  },
  {
   "cell_type": "code",
   "execution_count": 8,
   "metadata": {},
   "outputs": [],
   "source": [
    "def get_clean_regex():\n",
    "    users = \"@\\S+\" # usuwa dowolne, niebiałe znaki po @ \n",
    "    links = \"((www\\.[^\\s]+)|(https?://[^\\s]+))\" # usuwa linki\n",
    "    not_alpha_numeric = \"[^A-Za-z0-9]\"\n",
    "    hashtags = \"#\\S+\" # usuwa dowolne, niebiałe znaki po #\n",
    "    return \"|\".join([users, links, not_alpha_numeric, hashtags])\n",
    "    "
   ]
  },
  {
   "cell_type": "code",
   "execution_count": 9,
   "metadata": {},
   "outputs": [
    {
     "name": "stdout",
     "output_type": "stream",
     "text": [
      "@\\S+|((www\\.[^\\s]+)|(https?://[^\\s]+))|[^A-Za-z0-9]|#\\S+\n"
     ]
    }
   ],
   "source": [
    "clean_regex = get_clean_regex()\n",
    "print(clean_regex)"
   ]
  },
  {
   "cell_type": "code",
   "execution_count": 10,
   "metadata": {},
   "outputs": [],
   "source": [
    "df.text = df.text.apply(lambda x: re.sub(clean_regex, ' ', str(x).lower()).strip())"
   ]
  },
  {
   "cell_type": "code",
   "execution_count": 11,
   "metadata": {},
   "outputs": [
    {
     "data": {
      "text/plain": [
       "0    awww  that s a bummer   you shoulda got david ...\n",
       "1    is upset that he can t update his facebook by ...\n",
       "2    i dived many times for the ball  managed to sa...\n",
       "3       my whole body feels itchy and like its on fire\n",
       "4    no  it s not behaving at all  i m mad  why am ...\n",
       "Name: text, dtype: object"
      ]
     },
     "execution_count": 11,
     "metadata": {},
     "output_type": "execute_result"
    }
   ],
   "source": [
    "df.head(5).text"
   ]
  },
  {
   "cell_type": "code",
   "execution_count": 12,
   "metadata": {},
   "outputs": [
    {
     "data": {
      "text/plain": [
       "'awww  that s a bummer   you shoulda got david carr of third day to do it   d'"
      ]
     },
     "execution_count": 12,
     "metadata": {},
     "output_type": "execute_result"
    }
   ],
   "source": [
    "df.text[0]"
   ]
  },
  {
   "cell_type": "markdown",
   "metadata": {},
   "source": [
    "Całościowo wygląda dobrze, oprócz tego, że w tekscie teraz może występować wiele białych znaków obok siebie.\n",
    "\n",
    "Dlatego, też musimy jeszcze wykonać jedną transformację na naszym zbiorze:"
   ]
  },
  {
   "cell_type": "code",
   "execution_count": 13,
   "metadata": {},
   "outputs": [],
   "source": [
    "df.text = df.text.apply(lambda x: re.sub(\"\\s+\", ' ', str(x)).strip())"
   ]
  },
  {
   "cell_type": "code",
   "execution_count": 14,
   "metadata": {},
   "outputs": [
    {
     "data": {
      "text/plain": [
       "0    awww that s a bummer you shoulda got david car...\n",
       "1    is upset that he can t update his facebook by ...\n",
       "2    i dived many times for the ball managed to sav...\n",
       "3       my whole body feels itchy and like its on fire\n",
       "4    no it s not behaving at all i m mad why am i h...\n",
       "Name: text, dtype: object"
      ]
     },
     "execution_count": 14,
     "metadata": {},
     "output_type": "execute_result"
    }
   ],
   "source": [
    "df.head(5).text"
   ]
  },
  {
   "cell_type": "code",
   "execution_count": 15,
   "metadata": {},
   "outputs": [
    {
     "data": {
      "text/plain": [
       "'awww that s a bummer you shoulda got david carr of third day to do it d'"
      ]
     },
     "execution_count": 15,
     "metadata": {},
     "output_type": "execute_result"
    }
   ],
   "source": [
    "df.text[0]"
   ]
  },
  {
   "cell_type": "markdown",
   "metadata": {},
   "source": [
    "Warto jeszcze usunąc tak zwane **stop words** czyli słowa, których używamy ze względu na zasady gramatyczne i zwykle nie dodają znaczenia. Na przykład, są nimi: \"the\", \"a\", \"an\", \"in. \n",
    "\n",
    "Moglibyśmy sami stworzyć słownik takich zwrotów. Jednak nie jest to wymagane, poniważ możemy skorzystać z gotowego rozwiązania."
   ]
  },
  {
   "cell_type": "code",
   "execution_count": 16,
   "metadata": {},
   "outputs": [
    {
     "name": "stderr",
     "output_type": "stream",
     "text": [
      "[nltk_data] Downloading package stopwords to\n",
      "[nltk_data]     C:\\Users\\LukMcCall\\AppData\\Roaming\\nltk_data...\n"
     ]
    },
    {
     "name": "stdout",
     "output_type": "stream",
     "text": [
      "['i', 'me', 'my', 'myself', 'we', 'our', 'ours', 'ourselves', 'you', \"you're\", \"you've\", \"you'll\", \"you'd\", 'your', 'yours', 'yourself', 'yourselves', 'he', 'him', 'his', 'himself', 'she', \"she's\", 'her', 'hers', 'herself', 'it', \"it's\", 'its', 'itself', 'they', 'them', 'their', 'theirs', 'themselves', 'what', 'which', 'who', 'whom', 'this', 'that', \"that'll\", 'these', 'those', 'am', 'is', 'are', 'was', 'were', 'be', 'been', 'being', 'have', 'has', 'had', 'having', 'do', 'does', 'did', 'doing', 'a', 'an', 'the', 'and', 'but', 'if', 'or', 'because', 'as', 'until', 'while', 'of', 'at', 'by', 'for', 'with', 'about', 'against', 'between', 'into', 'through', 'during', 'before', 'after', 'above', 'below', 'to', 'from', 'up', 'down', 'in', 'out', 'on', 'off', 'over', 'under', 'again', 'further', 'then', 'once', 'here', 'there', 'when', 'where', 'why', 'how', 'all', 'any', 'both', 'each', 'few', 'more', 'most', 'other', 'some', 'such', 'no', 'nor', 'not', 'only', 'own', 'same', 'so', 'than', 'too', 'very', 's', 't', 'can', 'will', 'just', 'don', \"don't\", 'should', \"should've\", 'now', 'd', 'll', 'm', 'o', 're', 've', 'y', 'ain', 'aren', \"aren't\", 'couldn', \"couldn't\", 'didn', \"didn't\", 'doesn', \"doesn't\", 'hadn', \"hadn't\", 'hasn', \"hasn't\", 'haven', \"haven't\", 'isn', \"isn't\", 'ma', 'mightn', \"mightn't\", 'mustn', \"mustn't\", 'needn', \"needn't\", 'shan', \"shan't\", 'shouldn', \"shouldn't\", 'wasn', \"wasn't\", 'weren', \"weren't\", 'won', \"won't\", 'wouldn', \"wouldn't\"]\n"
     ]
    },
    {
     "name": "stderr",
     "output_type": "stream",
     "text": [
      "[nltk_data]   Unzipping corpora\\stopwords.zip.\n"
     ]
    }
   ],
   "source": [
    "nltk.download('stopwords')\n",
    "stop_words = stopwords.words(\"english\")\n",
    "print(stop_words)"
   ]
  },
  {
   "cell_type": "code",
   "execution_count": 17,
   "metadata": {},
   "outputs": [],
   "source": [
    "def remove_stop_words(text, stop_words):\n",
    "    tokens = []\n",
    "    for token in text.split():\n",
    "        if token not in stop_words:\n",
    "            tokens.append(token)\n",
    "    return \" \".join(tokens)\n",
    "\n",
    "df.text = df.text.apply(lambda x: remove_stop_words(str(x), stop_words).strip())"
   ]
  },
  {
   "cell_type": "code",
   "execution_count": 18,
   "metadata": {},
   "outputs": [
    {
     "data": {
      "text/plain": [
       "0         awww bummer shoulda got david carr third day\n",
       "1    upset update facebook texting might cry result...\n",
       "2    dived many times ball managed save 50 rest go ...\n",
       "3                     whole body feels itchy like fire\n",
       "4                                     behaving mad see\n",
       "Name: text, dtype: object"
      ]
     },
     "execution_count": 18,
     "metadata": {},
     "output_type": "execute_result"
    }
   ],
   "source": [
    "df.head(5).text"
   ]
  },
  {
   "cell_type": "code",
   "execution_count": 19,
   "metadata": {},
   "outputs": [
    {
     "data": {
      "text/plain": [
       "'awww bummer shoulda got david carr third day'"
      ]
     },
     "execution_count": 19,
     "metadata": {},
     "output_type": "execute_result"
    }
   ],
   "source": [
    "df.head(5).text[0]"
   ]
  },
  {
   "cell_type": "markdown",
   "metadata": {},
   "source": [
    "Możemy teraz zająć się labelami. Tu sprawda będzie prostsza. Musimy jednynie zamienić `4` na `1`.  "
   ]
  },
  {
   "cell_type": "code",
   "execution_count": 20,
   "metadata": {},
   "outputs": [],
   "source": [
    "df.target = df.target.replace(4,1)"
   ]
  },
  {
   "cell_type": "code",
   "execution_count": 21,
   "metadata": {},
   "outputs": [
    {
     "data": {
      "text/plain": [
       "<bound method NDFrame.head of          target                                               text\n",
       "0             0       awww bummer shoulda got david carr third day\n",
       "1             0  upset update facebook texting might cry result...\n",
       "2             0  dived many times ball managed save 50 rest go ...\n",
       "3             0                   whole body feels itchy like fire\n",
       "4             0                                   behaving mad see\n",
       "...         ...                                                ...\n",
       "1599995       1                      woke school best feeling ever\n",
       "1599996       1           thewdb com cool hear old walt interviews\n",
       "1599997       1                    ready mojo makeover ask details\n",
       "1599998       1  happy 38th birthday boo alll time tupac amaru ...\n",
       "1599999       1                               happy charitytuesday\n",
       "\n",
       "[1600000 rows x 2 columns]>"
      ]
     },
     "execution_count": 21,
     "metadata": {},
     "output_type": "execute_result"
    }
   ],
   "source": [
    "df.head"
   ]
  },
  {
   "cell_type": "markdown",
   "metadata": {},
   "source": [
    "# Charakterystyka danych"
   ]
  },
  {
   "cell_type": "markdown",
   "metadata": {},
   "source": [
    "Dokonaliśmy już wstępnej obróbki danych. Jednak nie wiemy jeszcze jak wygląda rozkład labeli w naszym datasecie. "
   ]
  },
  {
   "cell_type": "code",
   "execution_count": 22,
   "metadata": {},
   "outputs": [
    {
     "data": {
      "text/plain": [
       "1    800000\n",
       "0    800000\n",
       "Name: target, dtype: int64"
      ]
     },
     "execution_count": 22,
     "metadata": {},
     "output_type": "execute_result"
    }
   ],
   "source": [
    "df.target.value_counts()"
   ]
  },
  {
   "cell_type": "code",
   "execution_count": 23,
   "metadata": {},
   "outputs": [
    {
     "data": {
      "text/plain": [
       "<matplotlib.axes._subplots.AxesSubplot at 0x1d957181d88>"
      ]
     },
     "execution_count": 23,
     "metadata": {},
     "output_type": "execute_result"
    },
    {
     "data": {
      "image/png": "[encoded data removed]",
      "text/plain": [
       "<Figure size 432x288 with 1 Axes>"
      ]
     },
     "metadata": {
      "needs_background": "light"
     },
     "output_type": "display_data"
    }
   ],
   "source": [
    "df.target.value_counts().sort_values().plot(kind = 'barh')"
   ]
  },
  {
   "cell_type": "markdown",
   "metadata": {},
   "source": [
    "Już wiemy, że rozkład mamy tyle samo wiadomości pozytywnych co tych negatywnych."
   ]
  },
  {
   "cell_type": "markdown",
   "metadata": {},
   "source": [
    "Możemy jednocześnie policzyć jakie słowa występują najczęściej (oczywiście po wstępnym czyczeniu)"
   ]
  },
  {
   "cell_type": "code",
   "execution_count": 26,
   "metadata": {},
   "outputs": [],
   "source": [
    "documents = [_text.split() for _text in df.text] \n",
    "\n",
    "def count_word_freq(document):\n",
    "    count = defaultdict(int)\n",
    "    for sentence in document:\n",
    "        for s in sentence:\n",
    "            count[s] += 1\n",
    "    return count\n",
    "count_word_freq = count_word_freq(documents)"
   ]
  },
  {
   "cell_type": "code",
   "execution_count": 27,
   "metadata": {},
   "outputs": [
    {
     "name": "stdout",
     "output_type": "stream",
     "text": [
      "       count\n",
      "good   91313\n",
      "day    87072\n",
      "get    82043\n",
      "like   78565\n",
      "go     73915\n",
      "quot   71877\n",
      "today  68219\n",
      "work   64917\n",
      "love   64687\n",
      "going  64617\n"
     ]
    }
   ],
   "source": [
    "word_freq_count_df = pd.DataFrame.from_dict(count_word_freq, orient='index', columns=[\"count\"])\n",
    "best_word_freq = word_freq_count_df.sort_values(by=\"count\", ascending=False)[:10]\n",
    "print(best_word_freq)"
   ]
  },
  {
   "cell_type": "code",
   "execution_count": 28,
   "metadata": {},
   "outputs": [
    {
     "data": {
      "text/plain": [
       "<matplotlib.axes._subplots.AxesSubplot at 0x1d93a3c5448>"
      ]
     },
     "execution_count": 28,
     "metadata": {},
     "output_type": "execute_result"
    },
    {
     "data": {
      "image/png": "[encoded data removed]",
      "text/plain": [
       "<Figure size 432x288 with 1 Axes>"
      ]
     },
     "metadata": {
      "needs_background": "light"
     },
     "output_type": "display_data"
    }
   ],
   "source": [
    "best_word_freq.plot(kind = 'bar')"
   ]
  },
  {
   "cell_type": "markdown",
   "metadata": {},
   "source": [
    "# Podział na train i test"
   ]
  },
  {
   "cell_type": "code",
   "execution_count": 29,
   "metadata": {},
   "outputs": [
    {
     "name": "stdout",
     "output_type": "stream",
     "text": [
      "Podział danych\n",
      "  > Train:  1280000\n",
      "  > Test:  320000\n"
     ]
    }
   ],
   "source": [
    "df_train, df_test = train_test_split(df, test_size = 0.2)\n",
    "print(\"Podział danych\")\n",
    "print(\"  > Train: \", len(df_train))\n",
    "print(\"  > Test: \", len(df_test))"
   ]
  },
  {
   "cell_type": "code",
   "execution_count": 30,
   "metadata": {},
   "outputs": [
    {
     "data": {
      "text/plain": [
       "0    640173\n",
       "1    639827\n",
       "Name: target, dtype: int64"
      ]
     },
     "execution_count": 30,
     "metadata": {},
     "output_type": "execute_result"
    }
   ],
   "source": [
    "df_train.target.value_counts()"
   ]
  },
  {
   "cell_type": "code",
   "execution_count": 31,
   "metadata": {},
   "outputs": [
    {
     "data": {
      "text/plain": [
       "1    160173\n",
       "0    159827\n",
       "Name: target, dtype: int64"
      ]
     },
     "execution_count": 31,
     "metadata": {},
     "output_type": "execute_result"
    }
   ],
   "source": [
    "df_test.target.value_counts()"
   ]
  },
  {
   "cell_type": "markdown",
   "metadata": {},
   "source": [
    "# Word2Vec\n",
    "Na podstawie https://www.kaggle.com/pierremegret/gensim-word2vec-tutorial#Gensim-Word2Vec%C2%A0Tutorial\n",
    "\n",
    "Następnym krokiem, który musismy wykonać jest zamiana słów na wektory. W tym celu posłużym się model zaimplementowanym w biliotece `gensim`. Model ten wykorzystuje prostą sieć neuronową.\n",
    "\n",
    "Aby nasze dane były kompatybilne z tym algorytmem musimy zamienić je na listę list (każde znadnie jest zamienione na osobną listę)."
   ]
  },
  {
   "cell_type": "code",
   "execution_count": 32,
   "metadata": {},
   "outputs": [],
   "source": [
    "documents = [_text.split() for _text in df_train.text] "
   ]
  },
  {
   "cell_type": "markdown",
   "metadata": {},
   "source": [
    "W celu monitorowania postępów dodamy loggera."
   ]
  },
  {
   "cell_type": "code",
   "execution_count": 33,
   "metadata": {},
   "outputs": [],
   "source": [
    "logging.basicConfig(format='%(asctime)s : %(levelname)s : %(message)s', level = logging.INFO)"
   ]
  },
  {
   "cell_type": "markdown",
   "metadata": {},
   "source": [
    "Tworzymy teraz model podając kilka parametrów:\n",
    "- __min_count__ - ignoruje słowa o mniejszej liczebności niż zadana\n",
    "- __size__ - rozmar wyjściowych wektorów\n",
    "- __window__ - maksymalny dystans pomiędzy słowami\n",
    "- __alpha__ - learning rate\n",
    "- __min_aplha__ - minimalna wartość learning ratu"
   ]
  },
  {
   "cell_type": "code",
   "execution_count": 34,
   "metadata": {},
   "outputs": [],
   "source": [
    "w2v_model = gensim.models.word2vec.Word2Vec(min_count = 10,\n",
    "                                            window = 7,\n",
    "                                            size = 300,\n",
    "                                            alpha = 0.03, \n",
    "                                            min_alpha = 0.0007, \n",
    "                                            workers = 7)"
   ]
  },
  {
   "cell_type": "code",
   "execution_count": 35,
   "metadata": {},
   "outputs": [
    {
     "name": "stderr",
     "output_type": "stream",
     "text": [
      "2020-06-06 01:29:34,701 : INFO : collecting all words and their counts\n",
      "2020-06-06 01:29:34,702 : INFO : PROGRESS: at sentence #0, processed 0 words, keeping 0 word types\n",
      "2020-06-06 01:29:34,734 : INFO : PROGRESS: at sentence #10000, processed 71276 words, keeping 13352 word types\n",
      "2020-06-06 01:29:34,762 : INFO : PROGRESS: at sentence #20000, processed 143492 words, keeping 20379 word types\n",
      "2020-06-06 01:29:34,791 : INFO : PROGRESS: at sentence #30000, processed 214782 words, keeping 25931 word types\n",
      "2020-06-06 01:29:34,816 : INFO : PROGRESS: at sentence #40000, processed 286798 words, keeping 30896 word types\n",
      "2020-06-06 01:29:34,839 : INFO : PROGRESS: at sentence #50000, processed 358394 words, keeping 35254 word types\n",
      "2020-06-06 01:29:34,864 : INFO : PROGRESS: at sentence #60000, processed 429842 words, keeping 39384 word types\n",
      "2020-06-06 01:29:34,890 : INFO : PROGRESS: at sentence #70000, processed 501447 words, keeping 43159 word types\n",
      "2020-06-06 01:29:34,920 : INFO : PROGRESS: at sentence #80000, processed 573161 words, keeping 46682 word types\n",
      "2020-06-06 01:29:34,943 : INFO : PROGRESS: at sentence #90000, processed 644069 words, keeping 50180 word types\n",
      "2020-06-06 01:29:34,982 : INFO : PROGRESS: at sentence #100000, processed 715168 words, keeping 53397 word types\n",
      "2020-06-06 01:29:35,003 : INFO : PROGRESS: at sentence #110000, processed 786649 words, keeping 56467 word types\n",
      "2020-06-06 01:29:35,029 : INFO : PROGRESS: at sentence #120000, processed 858175 words, keeping 59439 word types\n",
      "2020-06-06 01:29:35,053 : INFO : PROGRESS: at sentence #130000, processed 929802 words, keeping 62238 word types\n",
      "2020-06-06 01:29:35,080 : INFO : PROGRESS: at sentence #140000, processed 1000913 words, keeping 65083 word types\n",
      "2020-06-06 01:29:35,106 : INFO : PROGRESS: at sentence #150000, processed 1072283 words, keeping 67813 word types\n",
      "2020-06-06 01:29:35,128 : INFO : PROGRESS: at sentence #160000, processed 1143465 words, keeping 70391 word types\n",
      "2020-06-06 01:29:35,156 : INFO : PROGRESS: at sentence #170000, processed 1215718 words, keeping 73013 word types\n",
      "2020-06-06 01:29:35,177 : INFO : PROGRESS: at sentence #180000, processed 1286960 words, keeping 75620 word types\n",
      "2020-06-06 01:29:35,205 : INFO : PROGRESS: at sentence #190000, processed 1358899 words, keeping 78166 word types\n",
      "2020-06-06 01:29:35,252 : INFO : PROGRESS: at sentence #200000, processed 1429909 words, keeping 80542 word types\n",
      "2020-06-06 01:29:35,278 : INFO : PROGRESS: at sentence #210000, processed 1501159 words, keeping 82863 word types\n",
      "2020-06-06 01:29:35,304 : INFO : PROGRESS: at sentence #220000, processed 1573066 words, keeping 85201 word types\n",
      "2020-06-06 01:29:35,336 : INFO : PROGRESS: at sentence #230000, processed 1643531 words, keeping 87451 word types\n",
      "2020-06-06 01:29:35,360 : INFO : PROGRESS: at sentence #240000, processed 1714822 words, keeping 89703 word types\n",
      "2020-06-06 01:29:35,388 : INFO : PROGRESS: at sentence #250000, processed 1785477 words, keeping 91833 word types\n",
      "2020-06-06 01:29:35,409 : INFO : PROGRESS: at sentence #260000, processed 1857011 words, keeping 93976 word types\n",
      "2020-06-06 01:29:35,435 : INFO : PROGRESS: at sentence #270000, processed 1928436 words, keeping 96030 word types\n",
      "2020-06-06 01:29:35,463 : INFO : PROGRESS: at sentence #280000, processed 2000316 words, keeping 98184 word types\n",
      "2020-06-06 01:29:35,509 : INFO : PROGRESS: at sentence #290000, processed 2070707 words, keeping 100209 word types\n",
      "2020-06-06 01:29:35,535 : INFO : PROGRESS: at sentence #300000, processed 2142007 words, keeping 102239 word types\n",
      "2020-06-06 01:29:35,561 : INFO : PROGRESS: at sentence #310000, processed 2214133 words, keeping 104277 word types\n",
      "2020-06-06 01:29:35,584 : INFO : PROGRESS: at sentence #320000, processed 2285413 words, keeping 106306 word types\n",
      "2020-06-06 01:29:35,608 : INFO : PROGRESS: at sentence #330000, processed 2356851 words, keeping 108290 word types\n",
      "2020-06-06 01:29:35,635 : INFO : PROGRESS: at sentence #340000, processed 2428419 words, keeping 110293 word types\n",
      "2020-06-06 01:29:35,664 : INFO : PROGRESS: at sentence #350000, processed 2499626 words, keeping 112206 word types\n",
      "2020-06-06 01:29:35,690 : INFO : PROGRESS: at sentence #360000, processed 2570839 words, keeping 114028 word types\n",
      "2020-06-06 01:29:35,721 : INFO : PROGRESS: at sentence #370000, processed 2642269 words, keeping 115947 word types\n",
      "2020-06-06 01:29:35,755 : INFO : PROGRESS: at sentence #380000, processed 2713946 words, keeping 117854 word types\n",
      "2020-06-06 01:29:35,781 : INFO : PROGRESS: at sentence #390000, processed 2784867 words, keeping 119736 word types\n",
      "2020-06-06 01:29:35,806 : INFO : PROGRESS: at sentence #400000, processed 2855911 words, keeping 121556 word types\n",
      "2020-06-06 01:29:35,831 : INFO : PROGRESS: at sentence #410000, processed 2927218 words, keeping 123319 word types\n",
      "2020-06-06 01:29:35,861 : INFO : PROGRESS: at sentence #420000, processed 2999136 words, keeping 125083 word types\n",
      "2020-06-06 01:29:35,888 : INFO : PROGRESS: at sentence #430000, processed 3071402 words, keeping 126843 word types\n",
      "2020-06-06 01:29:35,913 : INFO : PROGRESS: at sentence #440000, processed 3142043 words, keeping 128608 word types\n",
      "2020-06-06 01:29:35,943 : INFO : PROGRESS: at sentence #450000, processed 3213332 words, keeping 130318 word types\n",
      "2020-06-06 01:29:35,989 : INFO : PROGRESS: at sentence #460000, processed 3284564 words, keeping 132032 word types\n",
      "2020-06-06 01:29:36,017 : INFO : PROGRESS: at sentence #470000, processed 3355805 words, keeping 133697 word types\n",
      "2020-06-06 01:29:36,041 : INFO : PROGRESS: at sentence #480000, processed 3427263 words, keeping 135383 word types\n",
      "2020-06-06 01:29:36,065 : INFO : PROGRESS: at sentence #490000, processed 3498261 words, keeping 137057 word types\n",
      "2020-06-06 01:29:36,093 : INFO : PROGRESS: at sentence #500000, processed 3569961 words, keeping 138657 word types\n",
      "2020-06-06 01:29:36,121 : INFO : PROGRESS: at sentence #510000, processed 3641433 words, keeping 140299 word types\n",
      "2020-06-06 01:29:36,148 : INFO : PROGRESS: at sentence #520000, processed 3713261 words, keeping 141938 word types\n",
      "2020-06-06 01:29:36,175 : INFO : PROGRESS: at sentence #530000, processed 3784153 words, keeping 143601 word types\n",
      "2020-06-06 01:29:36,195 : INFO : PROGRESS: at sentence #540000, processed 3855479 words, keeping 145236 word types\n",
      "2020-06-06 01:29:36,227 : INFO : PROGRESS: at sentence #550000, processed 3926749 words, keeping 146752 word types\n",
      "2020-06-06 01:29:36,260 : INFO : PROGRESS: at sentence #560000, processed 3999119 words, keeping 148316 word types\n",
      "2020-06-06 01:29:36,286 : INFO : PROGRESS: at sentence #570000, processed 4070632 words, keeping 149962 word types\n",
      "2020-06-06 01:29:36,308 : INFO : PROGRESS: at sentence #580000, processed 4141652 words, keeping 151580 word types\n",
      "2020-06-06 01:29:36,336 : INFO : PROGRESS: at sentence #590000, processed 4212610 words, keeping 153120 word types\n",
      "2020-06-06 01:29:36,363 : INFO : PROGRESS: at sentence #600000, processed 4283768 words, keeping 154734 word types\n",
      "2020-06-06 01:29:36,389 : INFO : PROGRESS: at sentence #610000, processed 4356021 words, keeping 156285 word types\n",
      "2020-06-06 01:29:36,415 : INFO : PROGRESS: at sentence #620000, processed 4427840 words, keeping 157852 word types\n",
      "2020-06-06 01:29:36,440 : INFO : PROGRESS: at sentence #630000, processed 4499292 words, keeping 159423 word types\n",
      "2020-06-06 01:29:36,477 : INFO : PROGRESS: at sentence #640000, processed 4570015 words, keeping 160943 word types\n",
      "2020-06-06 01:29:36,507 : INFO : PROGRESS: at sentence #650000, processed 4641212 words, keeping 162371 word types\n",
      "2020-06-06 01:29:36,528 : INFO : PROGRESS: at sentence #660000, processed 4712741 words, keeping 163804 word types\n",
      "2020-06-06 01:29:36,556 : INFO : PROGRESS: at sentence #670000, processed 4784064 words, keeping 165363 word types\n",
      "2020-06-06 01:29:36,587 : INFO : PROGRESS: at sentence #680000, processed 4855251 words, keeping 166805 word types\n",
      "2020-06-06 01:29:36,615 : INFO : PROGRESS: at sentence #690000, processed 4926582 words, keeping 168280 word types\n",
      "2020-06-06 01:29:36,646 : INFO : PROGRESS: at sentence #700000, processed 4998702 words, keeping 169732 word types\n",
      "2020-06-06 01:29:36,676 : INFO : PROGRESS: at sentence #710000, processed 5069712 words, keeping 171189 word types\n"
     ]
    },
    {
     "name": "stderr",
     "output_type": "stream",
     "text": [
      "2020-06-06 01:29:36,708 : INFO : PROGRESS: at sentence #720000, processed 5141056 words, keeping 172619 word types\n",
      "2020-06-06 01:29:36,749 : INFO : PROGRESS: at sentence #730000, processed 5212459 words, keeping 174108 word types\n",
      "2020-06-06 01:29:36,792 : INFO : PROGRESS: at sentence #740000, processed 5284007 words, keeping 175550 word types\n",
      "2020-06-06 01:29:36,821 : INFO : PROGRESS: at sentence #750000, processed 5355597 words, keeping 176994 word types\n",
      "2020-06-06 01:29:36,849 : INFO : PROGRESS: at sentence #760000, processed 5426738 words, keeping 178422 word types\n",
      "2020-06-06 01:29:36,877 : INFO : PROGRESS: at sentence #770000, processed 5498144 words, keeping 179882 word types\n",
      "2020-06-06 01:29:36,907 : INFO : PROGRESS: at sentence #780000, processed 5570256 words, keeping 181339 word types\n",
      "2020-06-06 01:29:36,933 : INFO : PROGRESS: at sentence #790000, processed 5641723 words, keeping 182655 word types\n",
      "2020-06-06 01:29:36,959 : INFO : PROGRESS: at sentence #800000, processed 5713559 words, keeping 184092 word types\n",
      "2020-06-06 01:29:37,027 : INFO : PROGRESS: at sentence #810000, processed 5784967 words, keeping 185447 word types\n",
      "2020-06-06 01:29:37,059 : INFO : PROGRESS: at sentence #820000, processed 5856501 words, keeping 186841 word types\n",
      "2020-06-06 01:29:37,111 : INFO : PROGRESS: at sentence #830000, processed 5927829 words, keeping 188238 word types\n",
      "2020-06-06 01:29:37,145 : INFO : PROGRESS: at sentence #840000, processed 5999798 words, keeping 189622 word types\n",
      "2020-06-06 01:29:37,183 : INFO : PROGRESS: at sentence #850000, processed 6071216 words, keeping 190903 word types\n",
      "2020-06-06 01:29:37,255 : INFO : PROGRESS: at sentence #860000, processed 6142353 words, keeping 192275 word types\n",
      "2020-06-06 01:29:37,289 : INFO : PROGRESS: at sentence #870000, processed 6213500 words, keeping 193632 word types\n",
      "2020-06-06 01:29:37,324 : INFO : PROGRESS: at sentence #880000, processed 6284734 words, keeping 194910 word types\n",
      "2020-06-06 01:29:37,359 : INFO : PROGRESS: at sentence #890000, processed 6356209 words, keeping 196248 word types\n",
      "2020-06-06 01:29:37,396 : INFO : PROGRESS: at sentence #900000, processed 6427363 words, keeping 197654 word types\n",
      "2020-06-06 01:29:37,436 : INFO : PROGRESS: at sentence #910000, processed 6498971 words, keeping 198992 word types\n",
      "2020-06-06 01:29:37,511 : INFO : PROGRESS: at sentence #920000, processed 6570399 words, keeping 200313 word types\n",
      "2020-06-06 01:29:37,563 : INFO : PROGRESS: at sentence #930000, processed 6641215 words, keeping 201577 word types\n",
      "2020-06-06 01:29:37,612 : INFO : PROGRESS: at sentence #940000, processed 6712323 words, keeping 202829 word types\n",
      "2020-06-06 01:29:37,645 : INFO : PROGRESS: at sentence #950000, processed 6784132 words, keeping 204145 word types\n",
      "2020-06-06 01:29:37,675 : INFO : PROGRESS: at sentence #960000, processed 6855606 words, keeping 205437 word types\n",
      "2020-06-06 01:29:37,708 : INFO : PROGRESS: at sentence #970000, processed 6927165 words, keeping 206734 word types\n",
      "2020-06-06 01:29:37,740 : INFO : PROGRESS: at sentence #980000, processed 6998684 words, keeping 208023 word types\n",
      "2020-06-06 01:29:37,776 : INFO : PROGRESS: at sentence #990000, processed 7069987 words, keeping 209321 word types\n",
      "2020-06-06 01:29:37,814 : INFO : PROGRESS: at sentence #1000000, processed 7141528 words, keeping 210589 word types\n",
      "2020-06-06 01:29:37,853 : INFO : PROGRESS: at sentence #1010000, processed 7213178 words, keeping 211947 word types\n",
      "2020-06-06 01:29:37,890 : INFO : PROGRESS: at sentence #1020000, processed 7285325 words, keeping 213276 word types\n",
      "2020-06-06 01:29:37,926 : INFO : PROGRESS: at sentence #1030000, processed 7356779 words, keeping 214449 word types\n",
      "2020-06-06 01:29:37,959 : INFO : PROGRESS: at sentence #1040000, processed 7428660 words, keeping 215708 word types\n",
      "2020-06-06 01:29:37,990 : INFO : PROGRESS: at sentence #1050000, processed 7499803 words, keeping 217009 word types\n",
      "2020-06-06 01:29:38,020 : INFO : PROGRESS: at sentence #1060000, processed 7571186 words, keeping 218246 word types\n",
      "2020-06-06 01:29:38,054 : INFO : PROGRESS: at sentence #1070000, processed 7642865 words, keeping 219487 word types\n",
      "2020-06-06 01:29:38,092 : INFO : PROGRESS: at sentence #1080000, processed 7713729 words, keeping 220824 word types\n",
      "2020-06-06 01:29:38,127 : INFO : PROGRESS: at sentence #1090000, processed 7784976 words, keeping 222066 word types\n",
      "2020-06-06 01:29:38,160 : INFO : PROGRESS: at sentence #1100000, processed 7856332 words, keeping 223316 word types\n",
      "2020-06-06 01:29:38,197 : INFO : PROGRESS: at sentence #1110000, processed 7927855 words, keeping 224585 word types\n",
      "2020-06-06 01:29:38,235 : INFO : PROGRESS: at sentence #1120000, processed 7999370 words, keeping 225737 word types\n",
      "2020-06-06 01:29:38,269 : INFO : PROGRESS: at sentence #1130000, processed 8070576 words, keeping 226970 word types\n",
      "2020-06-06 01:29:38,303 : INFO : PROGRESS: at sentence #1140000, processed 8141520 words, keeping 228197 word types\n",
      "2020-06-06 01:29:38,334 : INFO : PROGRESS: at sentence #1150000, processed 8213416 words, keeping 229383 word types\n",
      "2020-06-06 01:29:38,362 : INFO : PROGRESS: at sentence #1160000, processed 8285115 words, keeping 230625 word types\n",
      "2020-06-06 01:29:38,395 : INFO : PROGRESS: at sentence #1170000, processed 8356415 words, keeping 231807 word types\n",
      "2020-06-06 01:29:38,431 : INFO : PROGRESS: at sentence #1180000, processed 8427520 words, keeping 233011 word types\n",
      "2020-06-06 01:29:38,471 : INFO : PROGRESS: at sentence #1190000, processed 8499233 words, keeping 234212 word types\n",
      "2020-06-06 01:29:38,505 : INFO : PROGRESS: at sentence #1200000, processed 8570541 words, keeping 235365 word types\n",
      "2020-06-06 01:29:38,539 : INFO : PROGRESS: at sentence #1210000, processed 8641670 words, keeping 236438 word types\n",
      "2020-06-06 01:29:38,573 : INFO : PROGRESS: at sentence #1220000, processed 8712943 words, keeping 237648 word types\n",
      "2020-06-06 01:29:38,605 : INFO : PROGRESS: at sentence #1230000, processed 8783796 words, keeping 238801 word types\n",
      "2020-06-06 01:29:38,640 : INFO : PROGRESS: at sentence #1240000, processed 8855133 words, keeping 239960 word types\n",
      "2020-06-06 01:29:38,675 : INFO : PROGRESS: at sentence #1250000, processed 8926238 words, keeping 241114 word types\n",
      "2020-06-06 01:29:38,713 : INFO : PROGRESS: at sentence #1260000, processed 8997445 words, keeping 242285 word types\n",
      "2020-06-06 01:29:38,750 : INFO : PROGRESS: at sentence #1270000, processed 9068909 words, keeping 243427 word types\n",
      "2020-06-06 01:29:38,792 : INFO : collected 244539 word types from a corpus of 9140715 raw words and 1280000 sentences\n",
      "2020-06-06 01:29:38,793 : INFO : Loading a fresh vocabulary\n",
      "2020-06-06 01:29:39,025 : INFO : effective_min_count=10 retains 30027 unique words (12% of original 244539, drops 214512)\n",
      "2020-06-06 01:29:39,027 : INFO : effective_min_count=10 leaves 8753783 word corpus (95% of original 9140715, drops 386932)\n",
      "2020-06-06 01:29:39,179 : INFO : deleting the raw counts dictionary of 244539 items\n",
      "2020-06-06 01:29:39,190 : INFO : sample=0.001 downsamples 45 most-common words\n",
      "2020-06-06 01:29:39,191 : INFO : downsampling leaves estimated 8193180 word corpus (93.6% of prior 8753783)\n",
      "2020-06-06 01:29:39,352 : INFO : estimated required memory for 30027 words and 300 dimensions: 87078300 bytes\n",
      "2020-06-06 01:29:39,354 : INFO : resetting layer weights\n"
     ]
    }
   ],
   "source": [
    "w2v_model.build_vocab(documents)"
   ]
  },
  {
   "cell_type": "markdown",
   "metadata": {},
   "source": [
    "Możemy teraz wytrenować nasz model."
   ]
  },
  {
   "cell_type": "code",
   "execution_count": 36,
   "metadata": {},
   "outputs": [
    {
     "name": "stderr",
     "output_type": "stream",
     "text": [
      "2020-06-06 01:29:46,801 : INFO : training model with 7 workers on 30027 vocabulary and 300 features, using sg=0 hs=0 sample=0.001 negative=5 window=7\n",
      "2020-06-06 01:29:47,843 : INFO : EPOCH 1 - PROGRESS: at 11.15% examples, 901386 words/s, in_qsize 13, out_qsize 3\n",
      "2020-06-06 01:29:48,847 : INFO : EPOCH 1 - PROGRESS: at 21.98% examples, 892889 words/s, in_qsize 12, out_qsize 1\n",
      "2020-06-06 01:29:49,854 : INFO : EPOCH 1 - PROGRESS: at 33.46% examples, 906382 words/s, in_qsize 13, out_qsize 0\n",
      "2020-06-06 01:29:50,892 : INFO : EPOCH 1 - PROGRESS: at 38.72% examples, 780597 words/s, in_qsize 14, out_qsize 0\n",
      "2020-06-06 01:29:51,900 : INFO : EPOCH 1 - PROGRESS: at 46.27% examples, 747345 words/s, in_qsize 8, out_qsize 5\n",
      "2020-06-06 01:29:52,919 : INFO : EPOCH 1 - PROGRESS: at 54.03% examples, 726847 words/s, in_qsize 14, out_qsize 0\n",
      "2020-06-06 01:29:53,971 : INFO : EPOCH 1 - PROGRESS: at 61.02% examples, 699963 words/s, in_qsize 13, out_qsize 4\n",
      "2020-06-06 01:29:54,988 : INFO : EPOCH 1 - PROGRESS: at 68.89% examples, 691818 words/s, in_qsize 13, out_qsize 0\n",
      "2020-06-06 01:29:55,989 : INFO : EPOCH 1 - PROGRESS: at 78.73% examples, 704244 words/s, in_qsize 13, out_qsize 0\n",
      "2020-06-06 01:29:56,997 : INFO : EPOCH 1 - PROGRESS: at 88.46% examples, 712850 words/s, in_qsize 13, out_qsize 0\n",
      "2020-06-06 01:29:58,015 : INFO : EPOCH 1 - PROGRESS: at 98.75% examples, 723293 words/s, in_qsize 8, out_qsize 4\n",
      "2020-06-06 01:29:58,051 : INFO : worker thread finished; awaiting finish of 6 more threads\n",
      "2020-06-06 01:29:58,056 : INFO : worker thread finished; awaiting finish of 5 more threads\n",
      "2020-06-06 01:29:58,058 : INFO : worker thread finished; awaiting finish of 4 more threads\n",
      "2020-06-06 01:29:58,064 : INFO : worker thread finished; awaiting finish of 3 more threads\n",
      "2020-06-06 01:29:58,075 : INFO : worker thread finished; awaiting finish of 2 more threads\n",
      "2020-06-06 01:29:58,081 : INFO : worker thread finished; awaiting finish of 1 more threads\n",
      "2020-06-06 01:29:58,086 : INFO : worker thread finished; awaiting finish of 0 more threads\n",
      "2020-06-06 01:29:58,087 : INFO : EPOCH - 1 : training on 9140715 raw words (8192893 effective words) took 11.3s, 727793 effective words/s\n",
      "2020-06-06 01:29:59,109 : INFO : EPOCH 2 - PROGRESS: at 9.17% examples, 747309 words/s, in_qsize 13, out_qsize 0\n",
      "2020-06-06 01:30:00,113 : INFO : EPOCH 2 - PROGRESS: at 18.91% examples, 770431 words/s, in_qsize 12, out_qsize 1\n",
      "2020-06-06 01:30:01,121 : INFO : EPOCH 2 - PROGRESS: at 28.32% examples, 768376 words/s, in_qsize 11, out_qsize 2\n",
      "2020-06-06 01:30:02,124 : INFO : EPOCH 2 - PROGRESS: at 37.73% examples, 768404 words/s, in_qsize 13, out_qsize 0\n",
      "2020-06-06 01:30:03,137 : INFO : EPOCH 2 - PROGRESS: at 47.79% examples, 777607 words/s, in_qsize 13, out_qsize 0\n",
      "2020-06-06 01:30:04,142 : INFO : EPOCH 2 - PROGRESS: at 58.07% examples, 787583 words/s, in_qsize 10, out_qsize 0\n",
      "2020-06-06 01:30:05,166 : INFO : EPOCH 2 - PROGRESS: at 67.79% examples, 786466 words/s, in_qsize 14, out_qsize 0\n",
      "2020-06-06 01:30:06,177 : INFO : EPOCH 2 - PROGRESS: at 77.86% examples, 789980 words/s, in_qsize 13, out_qsize 0\n",
      "2020-06-06 01:30:07,217 : INFO : EPOCH 2 - PROGRESS: at 88.02% examples, 791286 words/s, in_qsize 9, out_qsize 4\n",
      "2020-06-06 01:30:08,229 : INFO : EPOCH 2 - PROGRESS: at 98.32% examples, 795394 words/s, in_qsize 13, out_qsize 0\n",
      "2020-06-06 01:30:08,327 : INFO : worker thread finished; awaiting finish of 6 more threads\n",
      "2020-06-06 01:30:08,342 : INFO : worker thread finished; awaiting finish of 5 more threads\n",
      "2020-06-06 01:30:08,352 : INFO : worker thread finished; awaiting finish of 4 more threads\n",
      "2020-06-06 01:30:08,359 : INFO : worker thread finished; awaiting finish of 3 more threads\n",
      "2020-06-06 01:30:08,364 : INFO : worker thread finished; awaiting finish of 2 more threads\n",
      "2020-06-06 01:30:08,370 : INFO : worker thread finished; awaiting finish of 1 more threads\n",
      "2020-06-06 01:30:08,377 : INFO : worker thread finished; awaiting finish of 0 more threads\n",
      "2020-06-06 01:30:08,378 : INFO : EPOCH - 2 : training on 9140715 raw words (8193649 effective words) took 10.3s, 797381 effective words/s\n",
      "2020-06-06 01:30:09,420 : INFO : EPOCH 3 - PROGRESS: at 8.84% examples, 709540 words/s, in_qsize 13, out_qsize 0\n",
      "2020-06-06 01:30:10,438 : INFO : EPOCH 3 - PROGRESS: at 18.58% examples, 746268 words/s, in_qsize 13, out_qsize 0\n",
      "2020-06-06 01:30:11,447 : INFO : EPOCH 3 - PROGRESS: at 27.56% examples, 740629 words/s, in_qsize 10, out_qsize 4\n",
      "2020-06-06 01:30:12,494 : INFO : EPOCH 3 - PROGRESS: at 37.84% examples, 756733 words/s, in_qsize 14, out_qsize 1\n",
      "2020-06-06 01:30:13,500 : INFO : EPOCH 3 - PROGRESS: at 48.55% examples, 779663 words/s, in_qsize 13, out_qsize 0\n",
      "2020-06-06 01:30:14,509 : INFO : EPOCH 3 - PROGRESS: at 59.27% examples, 794556 words/s, in_qsize 13, out_qsize 0\n",
      "2020-06-06 01:30:15,528 : INFO : EPOCH 3 - PROGRESS: at 69.65% examples, 800498 words/s, in_qsize 13, out_qsize 0\n",
      "2020-06-06 01:30:16,565 : INFO : EPOCH 3 - PROGRESS: at 79.49% examples, 797481 words/s, in_qsize 13, out_qsize 0\n",
      "2020-06-06 01:30:17,592 : INFO : EPOCH 3 - PROGRESS: at 89.77% examples, 800041 words/s, in_qsize 14, out_qsize 0\n",
      "2020-06-06 01:30:18,499 : INFO : worker thread finished; awaiting finish of 6 more threads\n",
      "2020-06-06 01:30:18,506 : INFO : worker thread finished; awaiting finish of 5 more threads\n",
      "2020-06-06 01:30:18,512 : INFO : worker thread finished; awaiting finish of 4 more threads\n",
      "2020-06-06 01:30:18,520 : INFO : worker thread finished; awaiting finish of 3 more threads\n",
      "2020-06-06 01:30:18,521 : INFO : worker thread finished; awaiting finish of 2 more threads\n",
      "2020-06-06 01:30:18,531 : INFO : worker thread finished; awaiting finish of 1 more threads\n",
      "2020-06-06 01:30:18,536 : INFO : worker thread finished; awaiting finish of 0 more threads\n",
      "2020-06-06 01:30:18,537 : INFO : EPOCH - 3 : training on 9140715 raw words (8193500 effective words) took 10.1s, 808071 effective words/s\n",
      "2020-06-06 01:30:19,556 : INFO : EPOCH 4 - PROGRESS: at 8.84% examples, 722891 words/s, in_qsize 14, out_qsize 0\n",
      "2020-06-06 01:30:20,599 : INFO : EPOCH 4 - PROGRESS: at 18.58% examples, 743924 words/s, in_qsize 13, out_qsize 0\n",
      "2020-06-06 01:30:21,620 : INFO : EPOCH 4 - PROGRESS: at 28.32% examples, 756305 words/s, in_qsize 12, out_qsize 1\n",
      "2020-06-06 01:30:22,621 : INFO : EPOCH 4 - PROGRESS: at 37.08% examples, 746514 words/s, in_qsize 14, out_qsize 3\n",
      "2020-06-06 01:30:23,637 : INFO : EPOCH 4 - PROGRESS: at 46.59% examples, 750523 words/s, in_qsize 13, out_qsize 0\n",
      "2020-06-06 01:30:24,652 : INFO : EPOCH 4 - PROGRESS: at 56.76% examples, 762210 words/s, in_qsize 13, out_qsize 0\n",
      "2020-06-06 01:30:25,665 : INFO : EPOCH 4 - PROGRESS: at 65.93% examples, 759565 words/s, in_qsize 12, out_qsize 1\n",
      "2020-06-06 01:30:26,671 : INFO : EPOCH 4 - PROGRESS: at 75.78% examples, 764689 words/s, in_qsize 12, out_qsize 1\n",
      "2020-06-06 01:30:27,712 : INFO : EPOCH 4 - PROGRESS: at 86.05% examples, 769744 words/s, in_qsize 12, out_qsize 1\n",
      "2020-06-06 01:30:28,728 : INFO : EPOCH 4 - PROGRESS: at 96.56% examples, 777420 words/s, in_qsize 13, out_qsize 0\n",
      "2020-06-06 01:30:28,999 : INFO : worker thread finished; awaiting finish of 6 more threads\n",
      "2020-06-06 01:30:29,002 : INFO : worker thread finished; awaiting finish of 5 more threads\n",
      "2020-06-06 01:30:29,012 : INFO : worker thread finished; awaiting finish of 4 more threads\n",
      "2020-06-06 01:30:29,015 : INFO : worker thread finished; awaiting finish of 3 more threads\n",
      "2020-06-06 01:30:29,016 : INFO : worker thread finished; awaiting finish of 2 more threads\n",
      "2020-06-06 01:30:29,017 : INFO : worker thread finished; awaiting finish of 1 more threads\n",
      "2020-06-06 01:30:29,028 : INFO : worker thread finished; awaiting finish of 0 more threads\n",
      "2020-06-06 01:30:29,029 : INFO : EPOCH - 4 : training on 9140715 raw words (8192972 effective words) took 10.5s, 781922 effective words/s\n",
      "2020-06-06 01:30:30,048 : INFO : EPOCH 5 - PROGRESS: at 8.73% examples, 713803 words/s, in_qsize 10, out_qsize 3\n",
      "2020-06-06 01:30:31,061 : INFO : EPOCH 5 - PROGRESS: at 18.36% examples, 745744 words/s, in_qsize 13, out_qsize 0\n",
      "2020-06-06 01:30:32,063 : INFO : EPOCH 5 - PROGRESS: at 27.44% examples, 744393 words/s, in_qsize 13, out_qsize 0\n",
      "2020-06-06 01:30:33,080 : INFO : EPOCH 5 - PROGRESS: at 37.19% examples, 754697 words/s, in_qsize 14, out_qsize 1\n"
     ]
    },
    {
     "name": "stderr",
     "output_type": "stream",
     "text": [
      "2020-06-06 01:30:34,100 : INFO : EPOCH 5 - PROGRESS: at 47.14% examples, 763746 words/s, in_qsize 13, out_qsize 0\n",
      "2020-06-06 01:30:35,105 : INFO : EPOCH 5 - PROGRESS: at 57.42% examples, 775964 words/s, in_qsize 14, out_qsize 1\n",
      "2020-06-06 01:30:36,112 : INFO : EPOCH 5 - PROGRESS: at 67.24% examples, 779547 words/s, in_qsize 14, out_qsize 1\n",
      "2020-06-06 01:30:37,127 : INFO : EPOCH 5 - PROGRESS: at 77.42% examples, 784702 words/s, in_qsize 13, out_qsize 0\n",
      "2020-06-06 01:30:38,160 : INFO : EPOCH 5 - PROGRESS: at 87.58% examples, 787179 words/s, in_qsize 13, out_qsize 0\n",
      "2020-06-06 01:30:39,165 : INFO : EPOCH 5 - PROGRESS: at 97.00% examples, 785153 words/s, in_qsize 10, out_qsize 3\n",
      "2020-06-06 01:30:39,359 : INFO : worker thread finished; awaiting finish of 6 more threads\n",
      "2020-06-06 01:30:39,378 : INFO : worker thread finished; awaiting finish of 5 more threads\n",
      "2020-06-06 01:30:39,385 : INFO : worker thread finished; awaiting finish of 4 more threads\n",
      "2020-06-06 01:30:39,388 : INFO : worker thread finished; awaiting finish of 3 more threads\n",
      "2020-06-06 01:30:39,400 : INFO : worker thread finished; awaiting finish of 2 more threads\n",
      "2020-06-06 01:30:39,404 : INFO : worker thread finished; awaiting finish of 1 more threads\n",
      "2020-06-06 01:30:39,409 : INFO : worker thread finished; awaiting finish of 0 more threads\n",
      "2020-06-06 01:30:39,410 : INFO : EPOCH - 5 : training on 9140715 raw words (8193472 effective words) took 10.4s, 790319 effective words/s\n",
      "2020-06-06 01:30:40,428 : INFO : EPOCH 6 - PROGRESS: at 9.06% examples, 741363 words/s, in_qsize 13, out_qsize 0\n",
      "2020-06-06 01:30:41,455 : INFO : EPOCH 6 - PROGRESS: at 18.69% examples, 754503 words/s, in_qsize 13, out_qsize 0\n",
      "2020-06-06 01:30:42,484 : INFO : EPOCH 6 - PROGRESS: at 28.54% examples, 764305 words/s, in_qsize 13, out_qsize 0\n",
      "2020-06-06 01:30:43,548 : INFO : EPOCH 6 - PROGRESS: at 38.06% examples, 756254 words/s, in_qsize 12, out_qsize 4\n",
      "2020-06-06 01:30:44,569 : INFO : EPOCH 6 - PROGRESS: at 48.66% examples, 774902 words/s, in_qsize 13, out_qsize 0\n",
      "2020-06-06 01:30:45,598 : INFO : EPOCH 6 - PROGRESS: at 59.49% examples, 789547 words/s, in_qsize 11, out_qsize 2\n",
      "2020-06-06 01:30:46,610 : INFO : EPOCH 6 - PROGRESS: at 69.87% examples, 796796 words/s, in_qsize 13, out_qsize 0\n",
      "2020-06-06 01:30:47,616 : INFO : EPOCH 6 - PROGRESS: at 80.03% examples, 800640 words/s, in_qsize 13, out_qsize 0\n",
      "2020-06-06 01:30:48,619 : INFO : EPOCH 6 - PROGRESS: at 90.09% examples, 802946 words/s, in_qsize 13, out_qsize 0\n",
      "2020-06-06 01:30:49,473 : INFO : worker thread finished; awaiting finish of 6 more threads\n",
      "2020-06-06 01:30:49,485 : INFO : worker thread finished; awaiting finish of 5 more threads\n",
      "2020-06-06 01:30:49,490 : INFO : worker thread finished; awaiting finish of 4 more threads\n",
      "2020-06-06 01:30:49,496 : INFO : worker thread finished; awaiting finish of 3 more threads\n",
      "2020-06-06 01:30:49,507 : INFO : worker thread finished; awaiting finish of 2 more threads\n",
      "2020-06-06 01:30:49,514 : INFO : worker thread finished; awaiting finish of 1 more threads\n",
      "2020-06-06 01:30:49,517 : INFO : worker thread finished; awaiting finish of 0 more threads\n",
      "2020-06-06 01:30:49,518 : INFO : EPOCH - 6 : training on 9140715 raw words (8193386 effective words) took 10.1s, 811761 effective words/s\n",
      "2020-06-06 01:30:50,544 : INFO : EPOCH 7 - PROGRESS: at 8.73% examples, 710322 words/s, in_qsize 14, out_qsize 0\n",
      "2020-06-06 01:30:51,556 : INFO : EPOCH 7 - PROGRESS: at 18.14% examples, 735539 words/s, in_qsize 12, out_qsize 3\n",
      "2020-06-06 01:30:52,592 : INFO : EPOCH 7 - PROGRESS: at 27.89% examples, 746902 words/s, in_qsize 11, out_qsize 2\n",
      "2020-06-06 01:30:53,596 : INFO : EPOCH 7 - PROGRESS: at 37.73% examples, 760894 words/s, in_qsize 13, out_qsize 0\n",
      "2020-06-06 01:30:54,613 : INFO : EPOCH 7 - PROGRESS: at 48.55% examples, 783224 words/s, in_qsize 12, out_qsize 1\n",
      "2020-06-06 01:30:55,625 : INFO : EPOCH 7 - PROGRESS: at 59.60% examples, 801529 words/s, in_qsize 13, out_qsize 0\n",
      "2020-06-06 01:30:56,643 : INFO : EPOCH 7 - PROGRESS: at 70.64% examples, 814167 words/s, in_qsize 13, out_qsize 0\n",
      "2020-06-06 01:30:57,661 : INFO : EPOCH 7 - PROGRESS: at 81.23% examples, 819138 words/s, in_qsize 13, out_qsize 0\n",
      "2020-06-06 01:30:58,670 : INFO : EPOCH 7 - PROGRESS: at 91.73% examples, 822860 words/s, in_qsize 13, out_qsize 0\n",
      "2020-06-06 01:30:59,402 : INFO : worker thread finished; awaiting finish of 6 more threads\n",
      "2020-06-06 01:30:59,406 : INFO : worker thread finished; awaiting finish of 5 more threads\n",
      "2020-06-06 01:30:59,407 : INFO : worker thread finished; awaiting finish of 4 more threads\n",
      "2020-06-06 01:30:59,410 : INFO : worker thread finished; awaiting finish of 3 more threads\n",
      "2020-06-06 01:30:59,416 : INFO : worker thread finished; awaiting finish of 2 more threads\n",
      "2020-06-06 01:30:59,422 : INFO : worker thread finished; awaiting finish of 1 more threads\n",
      "2020-06-06 01:30:59,426 : INFO : worker thread finished; awaiting finish of 0 more threads\n",
      "2020-06-06 01:30:59,428 : INFO : EPOCH - 7 : training on 9140715 raw words (8193713 effective words) took 9.9s, 828162 effective words/s\n",
      "2020-06-06 01:31:00,450 : INFO : EPOCH 8 - PROGRESS: at 8.41% examples, 684933 words/s, in_qsize 11, out_qsize 2\n",
      "2020-06-06 01:31:01,465 : INFO : EPOCH 8 - PROGRESS: at 17.70% examples, 717853 words/s, in_qsize 11, out_qsize 2\n",
      "2020-06-06 01:31:02,473 : INFO : EPOCH 8 - PROGRESS: at 27.23% examples, 736339 words/s, in_qsize 13, out_qsize 0\n",
      "2020-06-06 01:31:03,480 : INFO : EPOCH 8 - PROGRESS: at 37.40% examples, 759129 words/s, in_qsize 13, out_qsize 0\n",
      "2020-06-06 01:31:04,486 : INFO : EPOCH 8 - PROGRESS: at 48.23% examples, 783535 words/s, in_qsize 13, out_qsize 0\n",
      "2020-06-06 01:31:05,490 : INFO : EPOCH 8 - PROGRESS: at 58.84% examples, 797046 words/s, in_qsize 13, out_qsize 0\n",
      "2020-06-06 01:31:06,508 : INFO : EPOCH 8 - PROGRESS: at 69.11% examples, 801487 words/s, in_qsize 12, out_qsize 1\n",
      "2020-06-06 01:31:07,517 : INFO : EPOCH 8 - PROGRESS: at 79.70% examples, 808874 words/s, in_qsize 13, out_qsize 0\n",
      "2020-06-06 01:31:08,545 : INFO : EPOCH 8 - PROGRESS: at 90.31% examples, 813040 words/s, in_qsize 14, out_qsize 1\n",
      "2020-06-06 01:31:09,353 : INFO : worker thread finished; awaiting finish of 6 more threads\n",
      "2020-06-06 01:31:09,374 : INFO : worker thread finished; awaiting finish of 5 more threads\n",
      "2020-06-06 01:31:09,383 : INFO : worker thread finished; awaiting finish of 4 more threads\n",
      "2020-06-06 01:31:09,387 : INFO : worker thread finished; awaiting finish of 3 more threads\n",
      "2020-06-06 01:31:09,400 : INFO : worker thread finished; awaiting finish of 2 more threads\n",
      "2020-06-06 01:31:09,402 : INFO : worker thread finished; awaiting finish of 1 more threads\n",
      "2020-06-06 01:31:09,410 : INFO : worker thread finished; awaiting finish of 0 more threads\n",
      "2020-06-06 01:31:09,411 : INFO : EPOCH - 8 : training on 9140715 raw words (8193146 effective words) took 10.0s, 821997 effective words/s\n",
      "2020-06-06 01:31:10,467 : INFO : EPOCH 9 - PROGRESS: at 9.28% examples, 730777 words/s, in_qsize 13, out_qsize 0\n",
      "2020-06-06 01:31:11,505 : INFO : EPOCH 9 - PROGRESS: at 19.90% examples, 784033 words/s, in_qsize 14, out_qsize 3\n",
      "2020-06-06 01:31:12,516 : INFO : EPOCH 9 - PROGRESS: at 30.84% examples, 817296 words/s, in_qsize 13, out_qsize 0\n",
      "2020-06-06 01:31:13,524 : INFO : EPOCH 9 - PROGRESS: at 41.34% examples, 826242 words/s, in_qsize 13, out_qsize 0\n",
      "2020-06-06 01:31:14,543 : INFO : EPOCH 9 - PROGRESS: at 52.50% examples, 840310 words/s, in_qsize 12, out_qsize 1\n",
      "2020-06-06 01:31:15,554 : INFO : EPOCH 9 - PROGRESS: at 62.98% examples, 841934 words/s, in_qsize 14, out_qsize 0\n",
      "2020-06-06 01:31:16,608 : INFO : EPOCH 9 - PROGRESS: at 72.83% examples, 830699 words/s, in_qsize 14, out_qsize 1\n",
      "2020-06-06 01:31:17,628 : INFO : EPOCH 9 - PROGRESS: at 82.65% examples, 825666 words/s, in_qsize 13, out_qsize 0\n",
      "2020-06-06 01:31:18,684 : INFO : EPOCH 9 - PROGRESS: at 92.61% examples, 819486 words/s, in_qsize 12, out_qsize 1\n",
      "2020-06-06 01:31:19,342 : INFO : worker thread finished; awaiting finish of 6 more threads\n",
      "2020-06-06 01:31:19,374 : INFO : worker thread finished; awaiting finish of 5 more threads\n",
      "2020-06-06 01:31:19,380 : INFO : worker thread finished; awaiting finish of 4 more threads\n",
      "2020-06-06 01:31:19,384 : INFO : worker thread finished; awaiting finish of 3 more threads\n"
     ]
    },
    {
     "name": "stderr",
     "output_type": "stream",
     "text": [
      "2020-06-06 01:31:19,387 : INFO : worker thread finished; awaiting finish of 2 more threads\n",
      "2020-06-06 01:31:19,388 : INFO : worker thread finished; awaiting finish of 1 more threads\n",
      "2020-06-06 01:31:19,404 : INFO : worker thread finished; awaiting finish of 0 more threads\n",
      "2020-06-06 01:31:19,405 : INFO : EPOCH - 9 : training on 9140715 raw words (8193070 effective words) took 10.0s, 820888 effective words/s\n",
      "2020-06-06 01:31:20,441 : INFO : EPOCH 10 - PROGRESS: at 8.41% examples, 675109 words/s, in_qsize 13, out_qsize 0\n",
      "2020-06-06 01:31:21,474 : INFO : EPOCH 10 - PROGRESS: at 17.81% examples, 710578 words/s, in_qsize 14, out_qsize 0\n",
      "2020-06-06 01:31:22,480 : INFO : EPOCH 10 - PROGRESS: at 28.10% examples, 752167 words/s, in_qsize 14, out_qsize 2\n",
      "2020-06-06 01:31:23,488 : INFO : EPOCH 10 - PROGRESS: at 38.50% examples, 774913 words/s, in_qsize 12, out_qsize 1\n",
      "2020-06-06 01:31:24,500 : INFO : EPOCH 10 - PROGRESS: at 49.09% examples, 791516 words/s, in_qsize 11, out_qsize 2\n",
      "2020-06-06 01:31:25,507 : INFO : EPOCH 10 - PROGRESS: at 58.62% examples, 788580 words/s, in_qsize 14, out_qsize 1\n",
      "2020-06-06 01:31:26,508 : INFO : EPOCH 10 - PROGRESS: at 68.78% examples, 794829 words/s, in_qsize 13, out_qsize 0\n",
      "2020-06-06 01:31:27,535 : INFO : EPOCH 10 - PROGRESS: at 79.16% examples, 799110 words/s, in_qsize 11, out_qsize 2\n",
      "2020-06-06 01:31:28,552 : INFO : EPOCH 10 - PROGRESS: at 89.87% examples, 806215 words/s, in_qsize 13, out_qsize 0\n",
      "2020-06-06 01:31:29,467 : INFO : worker thread finished; awaiting finish of 6 more threads\n",
      "2020-06-06 01:31:29,475 : INFO : worker thread finished; awaiting finish of 5 more threads\n",
      "2020-06-06 01:31:29,500 : INFO : worker thread finished; awaiting finish of 4 more threads\n",
      "2020-06-06 01:31:29,503 : INFO : worker thread finished; awaiting finish of 3 more threads\n",
      "2020-06-06 01:31:29,515 : INFO : worker thread finished; awaiting finish of 2 more threads\n",
      "2020-06-06 01:31:29,519 : INFO : worker thread finished; awaiting finish of 1 more threads\n",
      "2020-06-06 01:31:29,523 : INFO : worker thread finished; awaiting finish of 0 more threads\n",
      "2020-06-06 01:31:29,524 : INFO : EPOCH - 10 : training on 9140715 raw words (8192751 effective words) took 10.1s, 810646 effective words/s\n",
      "2020-06-06 01:31:30,545 : INFO : EPOCH 11 - PROGRESS: at 8.84% examples, 722341 words/s, in_qsize 14, out_qsize 0\n",
      "2020-06-06 01:31:31,566 : INFO : EPOCH 11 - PROGRESS: at 18.14% examples, 734180 words/s, in_qsize 12, out_qsize 1\n",
      "2020-06-06 01:31:32,621 : INFO : EPOCH 11 - PROGRESS: at 28.21% examples, 750203 words/s, in_qsize 13, out_qsize 1\n",
      "2020-06-06 01:31:33,623 : INFO : EPOCH 11 - PROGRESS: at 38.94% examples, 781197 words/s, in_qsize 13, out_qsize 0\n",
      "2020-06-06 01:31:34,626 : INFO : EPOCH 11 - PROGRESS: at 48.88% examples, 787550 words/s, in_qsize 13, out_qsize 2\n",
      "2020-06-06 01:31:35,651 : INFO : EPOCH 11 - PROGRESS: at 59.16% examples, 793243 words/s, in_qsize 12, out_qsize 1\n",
      "2020-06-06 01:31:36,679 : INFO : EPOCH 11 - PROGRESS: at 68.56% examples, 786950 words/s, in_qsize 11, out_qsize 2\n",
      "2020-06-06 01:31:37,706 : INFO : EPOCH 11 - PROGRESS: at 78.62% examples, 788831 words/s, in_qsize 12, out_qsize 1\n",
      "2020-06-06 01:31:38,712 : INFO : EPOCH 11 - PROGRESS: at 89.12% examples, 796160 words/s, in_qsize 14, out_qsize 1\n",
      "2020-06-06 01:31:39,647 : INFO : worker thread finished; awaiting finish of 6 more threads\n",
      "2020-06-06 01:31:39,649 : INFO : worker thread finished; awaiting finish of 5 more threads\n",
      "2020-06-06 01:31:39,650 : INFO : worker thread finished; awaiting finish of 4 more threads\n",
      "2020-06-06 01:31:39,659 : INFO : worker thread finished; awaiting finish of 3 more threads\n",
      "2020-06-06 01:31:39,668 : INFO : worker thread finished; awaiting finish of 2 more threads\n",
      "2020-06-06 01:31:39,672 : INFO : worker thread finished; awaiting finish of 1 more threads\n",
      "2020-06-06 01:31:39,675 : INFO : worker thread finished; awaiting finish of 0 more threads\n",
      "2020-06-06 01:31:39,676 : INFO : EPOCH - 11 : training on 9140715 raw words (8192719 effective words) took 10.1s, 808284 effective words/s\n",
      "2020-06-06 01:31:40,696 : INFO : EPOCH 12 - PROGRESS: at 8.95% examples, 730930 words/s, in_qsize 13, out_qsize 1\n",
      "2020-06-06 01:31:41,702 : INFO : EPOCH 12 - PROGRESS: at 18.14% examples, 739322 words/s, in_qsize 10, out_qsize 3\n",
      "2020-06-06 01:31:42,718 : INFO : EPOCH 12 - PROGRESS: at 27.22% examples, 737002 words/s, in_qsize 13, out_qsize 0\n",
      "2020-06-06 01:31:43,754 : INFO : EPOCH 12 - PROGRESS: at 36.42% examples, 734263 words/s, in_qsize 13, out_qsize 1\n",
      "2020-06-06 01:31:44,760 : INFO : EPOCH 12 - PROGRESS: at 45.17% examples, 729766 words/s, in_qsize 10, out_qsize 3\n",
      "2020-06-06 01:31:45,779 : INFO : EPOCH 12 - PROGRESS: at 55.34% examples, 744598 words/s, in_qsize 14, out_qsize 0\n",
      "2020-06-06 01:31:46,783 : INFO : EPOCH 12 - PROGRESS: at 65.60% examples, 757879 words/s, in_qsize 13, out_qsize 0\n",
      "2020-06-06 01:31:47,801 : INFO : EPOCH 12 - PROGRESS: at 73.27% examples, 740091 words/s, in_qsize 13, out_qsize 0\n",
      "2020-06-06 01:31:48,824 : INFO : EPOCH 12 - PROGRESS: at 82.76% examples, 742482 words/s, in_qsize 14, out_qsize 1\n",
      "2020-06-06 01:31:49,827 : INFO : EPOCH 12 - PROGRESS: at 93.05% examples, 752152 words/s, in_qsize 13, out_qsize 0\n",
      "2020-06-06 01:31:50,431 : INFO : worker thread finished; awaiting finish of 6 more threads\n",
      "2020-06-06 01:31:50,432 : INFO : worker thread finished; awaiting finish of 5 more threads\n",
      "2020-06-06 01:31:50,439 : INFO : worker thread finished; awaiting finish of 4 more threads\n",
      "2020-06-06 01:31:50,441 : INFO : worker thread finished; awaiting finish of 3 more threads\n",
      "2020-06-06 01:31:50,447 : INFO : worker thread finished; awaiting finish of 2 more threads\n",
      "2020-06-06 01:31:50,450 : INFO : worker thread finished; awaiting finish of 1 more threads\n",
      "2020-06-06 01:31:50,463 : INFO : worker thread finished; awaiting finish of 0 more threads\n",
      "2020-06-06 01:31:50,464 : INFO : EPOCH - 12 : training on 9140715 raw words (8192480 effective words) took 10.8s, 760474 effective words/s\n",
      "2020-06-06 01:31:51,483 : INFO : EPOCH 13 - PROGRESS: at 8.73% examples, 714438 words/s, in_qsize 12, out_qsize 1\n",
      "2020-06-06 01:31:52,520 : INFO : EPOCH 13 - PROGRESS: at 18.03% examples, 724261 words/s, in_qsize 14, out_qsize 0\n",
      "2020-06-06 01:31:53,536 : INFO : EPOCH 13 - PROGRESS: at 27.56% examples, 738577 words/s, in_qsize 12, out_qsize 1\n",
      "2020-06-06 01:31:54,563 : INFO : EPOCH 13 - PROGRESS: at 36.97% examples, 741436 words/s, in_qsize 14, out_qsize 1\n",
      "2020-06-06 01:31:55,574 : INFO : EPOCH 13 - PROGRESS: at 46.49% examples, 747423 words/s, in_qsize 13, out_qsize 0\n",
      "2020-06-06 01:31:56,599 : INFO : EPOCH 13 - PROGRESS: at 55.67% examples, 745107 words/s, in_qsize 13, out_qsize 0\n",
      "2020-06-06 01:31:57,623 : INFO : EPOCH 13 - PROGRESS: at 65.49% examples, 751181 words/s, in_qsize 13, out_qsize 0\n",
      "2020-06-06 01:31:58,642 : INFO : EPOCH 13 - PROGRESS: at 74.14% examples, 744227 words/s, in_qsize 13, out_qsize 0\n",
      "2020-06-06 01:31:59,665 : INFO : EPOCH 13 - PROGRESS: at 83.64% examples, 746116 words/s, in_qsize 12, out_qsize 1\n",
      "2020-06-06 01:32:00,692 : INFO : EPOCH 13 - PROGRESS: at 92.94% examples, 745673 words/s, in_qsize 13, out_qsize 0\n",
      "2020-06-06 01:32:01,326 : INFO : worker thread finished; awaiting finish of 6 more threads\n",
      "2020-06-06 01:32:01,345 : INFO : worker thread finished; awaiting finish of 5 more threads\n",
      "2020-06-06 01:32:01,350 : INFO : worker thread finished; awaiting finish of 4 more threads\n",
      "2020-06-06 01:32:01,352 : INFO : worker thread finished; awaiting finish of 3 more threads\n",
      "2020-06-06 01:32:01,353 : INFO : worker thread finished; awaiting finish of 2 more threads\n",
      "2020-06-06 01:32:01,354 : INFO : worker thread finished; awaiting finish of 1 more threads\n",
      "2020-06-06 01:32:01,355 : INFO : worker thread finished; awaiting finish of 0 more threads\n",
      "2020-06-06 01:32:01,356 : INFO : EPOCH - 13 : training on 9140715 raw words (8193288 effective words) took 10.9s, 753251 effective words/s\n",
      "2020-06-06 01:32:02,381 : INFO : EPOCH 14 - PROGRESS: at 9.28% examples, 754734 words/s, in_qsize 13, out_qsize 0\n",
      "2020-06-06 01:32:03,381 : INFO : EPOCH 14 - PROGRESS: at 18.80% examples, 766601 words/s, in_qsize 13, out_qsize 0\n",
      "2020-06-06 01:32:04,388 : INFO : EPOCH 14 - PROGRESS: at 28.76% examples, 780915 words/s, in_qsize 13, out_qsize 0\n"
     ]
    },
    {
     "name": "stderr",
     "output_type": "stream",
     "text": [
      "2020-06-06 01:32:05,395 : INFO : EPOCH 14 - PROGRESS: at 37.84% examples, 770312 words/s, in_qsize 13, out_qsize 0\n",
      "2020-06-06 01:32:06,398 : INFO : EPOCH 14 - PROGRESS: at 46.70% examples, 760965 words/s, in_qsize 13, out_qsize 0\n",
      "2020-06-06 01:32:07,421 : INFO : EPOCH 14 - PROGRESS: at 56.10% examples, 759720 words/s, in_qsize 13, out_qsize 0\n",
      "2020-06-06 01:32:08,440 : INFO : EPOCH 14 - PROGRESS: at 65.38% examples, 757814 words/s, in_qsize 13, out_qsize 0\n",
      "2020-06-06 01:32:09,457 : INFO : EPOCH 14 - PROGRESS: at 74.47% examples, 754547 words/s, in_qsize 14, out_qsize 0\n",
      "2020-06-06 01:32:10,461 : INFO : EPOCH 14 - PROGRESS: at 83.85% examples, 755911 words/s, in_qsize 13, out_qsize 0\n",
      "2020-06-06 01:32:11,466 : INFO : EPOCH 14 - PROGRESS: at 93.05% examples, 755248 words/s, in_qsize 13, out_qsize 0\n",
      "2020-06-06 01:32:12,145 : INFO : worker thread finished; awaiting finish of 6 more threads\n",
      "2020-06-06 01:32:12,148 : INFO : worker thread finished; awaiting finish of 5 more threads\n",
      "2020-06-06 01:32:12,151 : INFO : worker thread finished; awaiting finish of 4 more threads\n",
      "2020-06-06 01:32:12,153 : INFO : worker thread finished; awaiting finish of 3 more threads\n",
      "2020-06-06 01:32:12,155 : INFO : worker thread finished; awaiting finish of 2 more threads\n",
      "2020-06-06 01:32:12,161 : INFO : worker thread finished; awaiting finish of 1 more threads\n",
      "2020-06-06 01:32:12,168 : INFO : worker thread finished; awaiting finish of 0 more threads\n",
      "2020-06-06 01:32:12,170 : INFO : EPOCH - 14 : training on 9140715 raw words (8192537 effective words) took 10.8s, 758721 effective words/s\n",
      "2020-06-06 01:32:13,194 : INFO : EPOCH 15 - PROGRESS: at 8.63% examples, 700763 words/s, in_qsize 13, out_qsize 3\n",
      "2020-06-06 01:32:14,209 : INFO : EPOCH 15 - PROGRESS: at 18.80% examples, 760743 words/s, in_qsize 10, out_qsize 3\n",
      "2020-06-06 01:32:15,240 : INFO : EPOCH 15 - PROGRESS: at 28.87% examples, 773826 words/s, in_qsize 12, out_qsize 1\n",
      "2020-06-06 01:32:16,248 : INFO : EPOCH 15 - PROGRESS: at 38.94% examples, 784668 words/s, in_qsize 12, out_qsize 1\n",
      "2020-06-06 01:32:17,298 : INFO : EPOCH 15 - PROGRESS: at 48.55% examples, 777769 words/s, in_qsize 14, out_qsize 5\n",
      "2020-06-06 01:32:18,299 : INFO : EPOCH 15 - PROGRESS: at 58.62% examples, 785221 words/s, in_qsize 12, out_qsize 1\n",
      "2020-06-06 01:32:19,310 : INFO : EPOCH 15 - PROGRESS: at 68.45% examples, 787041 words/s, in_qsize 11, out_qsize 2\n",
      "2020-06-06 01:32:20,331 : INFO : EPOCH 15 - PROGRESS: at 78.51% examples, 789600 words/s, in_qsize 10, out_qsize 3\n",
      "2020-06-06 01:32:21,334 : INFO : EPOCH 15 - PROGRESS: at 88.46% examples, 792095 words/s, in_qsize 13, out_qsize 0\n",
      "2020-06-06 01:32:22,336 : INFO : EPOCH 15 - PROGRESS: at 97.77% examples, 788949 words/s, in_qsize 13, out_qsize 0\n",
      "2020-06-06 01:32:22,483 : INFO : worker thread finished; awaiting finish of 6 more threads\n",
      "2020-06-06 01:32:22,514 : INFO : worker thread finished; awaiting finish of 5 more threads\n",
      "2020-06-06 01:32:22,522 : INFO : worker thread finished; awaiting finish of 4 more threads\n",
      "2020-06-06 01:32:22,524 : INFO : worker thread finished; awaiting finish of 3 more threads\n",
      "2020-06-06 01:32:22,530 : INFO : worker thread finished; awaiting finish of 2 more threads\n",
      "2020-06-06 01:32:22,534 : INFO : worker thread finished; awaiting finish of 1 more threads\n",
      "2020-06-06 01:32:22,549 : INFO : worker thread finished; awaiting finish of 0 more threads\n",
      "2020-06-06 01:32:22,550 : INFO : EPOCH - 15 : training on 9140715 raw words (8193018 effective words) took 10.4s, 790299 effective words/s\n",
      "2020-06-06 01:32:23,566 : INFO : EPOCH 16 - PROGRESS: at 8.96% examples, 733944 words/s, in_qsize 12, out_qsize 1\n",
      "2020-06-06 01:32:24,578 : INFO : EPOCH 16 - PROGRESS: at 18.25% examples, 742949 words/s, in_qsize 10, out_qsize 3\n",
      "2020-06-06 01:32:25,587 : INFO : EPOCH 16 - PROGRESS: at 28.21% examples, 764763 words/s, in_qsize 13, out_qsize 0\n",
      "2020-06-06 01:32:26,600 : INFO : EPOCH 16 - PROGRESS: at 37.95% examples, 770483 words/s, in_qsize 13, out_qsize 2\n",
      "2020-06-06 01:32:27,643 : INFO : EPOCH 16 - PROGRESS: at 48.88% examples, 788565 words/s, in_qsize 13, out_qsize 0\n",
      "2020-06-06 01:32:28,655 : INFO : EPOCH 16 - PROGRESS: at 59.60% examples, 801650 words/s, in_qsize 14, out_qsize 2\n",
      "2020-06-06 01:32:29,660 : INFO : EPOCH 16 - PROGRESS: at 70.31% examples, 811984 words/s, in_qsize 14, out_qsize 0\n",
      "2020-06-06 01:32:30,662 : INFO : EPOCH 16 - PROGRESS: at 81.02% examples, 819869 words/s, in_qsize 13, out_qsize 0\n",
      "2020-06-06 01:32:31,680 : INFO : EPOCH 16 - PROGRESS: at 91.19% examples, 819791 words/s, in_qsize 13, out_qsize 0\n",
      "2020-06-06 01:32:32,438 : INFO : worker thread finished; awaiting finish of 6 more threads\n",
      "2020-06-06 01:32:32,440 : INFO : worker thread finished; awaiting finish of 5 more threads\n",
      "2020-06-06 01:32:32,456 : INFO : worker thread finished; awaiting finish of 4 more threads\n",
      "2020-06-06 01:32:32,457 : INFO : worker thread finished; awaiting finish of 3 more threads\n",
      "2020-06-06 01:32:32,458 : INFO : worker thread finished; awaiting finish of 2 more threads\n",
      "2020-06-06 01:32:32,462 : INFO : worker thread finished; awaiting finish of 1 more threads\n",
      "2020-06-06 01:32:32,471 : INFO : worker thread finished; awaiting finish of 0 more threads\n",
      "2020-06-06 01:32:32,472 : INFO : EPOCH - 16 : training on 9140715 raw words (8193252 effective words) took 9.9s, 826934 effective words/s\n",
      "2020-06-06 01:32:33,505 : INFO : EPOCH 17 - PROGRESS: at 9.39% examples, 756642 words/s, in_qsize 13, out_qsize 0\n",
      "2020-06-06 01:32:34,536 : INFO : EPOCH 17 - PROGRESS: at 18.91% examples, 755986 words/s, in_qsize 13, out_qsize 0\n",
      "2020-06-06 01:32:35,550 : INFO : EPOCH 17 - PROGRESS: at 28.65% examples, 765857 words/s, in_qsize 13, out_qsize 0\n",
      "2020-06-06 01:32:36,559 : INFO : EPOCH 17 - PROGRESS: at 37.30% examples, 750144 words/s, in_qsize 14, out_qsize 1\n",
      "2020-06-06 01:32:37,572 : INFO : EPOCH 17 - PROGRESS: at 45.50% examples, 732831 words/s, in_qsize 13, out_qsize 1\n",
      "2020-06-06 01:32:38,597 : INFO : EPOCH 17 - PROGRESS: at 52.83% examples, 708177 words/s, in_qsize 13, out_qsize 0\n",
      "2020-06-06 01:32:39,598 : INFO : EPOCH 17 - PROGRESS: at 60.70% examples, 699234 words/s, in_qsize 12, out_qsize 1\n",
      "2020-06-06 01:32:40,606 : INFO : EPOCH 17 - PROGRESS: at 69.87% examples, 705125 words/s, in_qsize 13, out_qsize 0\n",
      "2020-06-06 01:32:41,645 : INFO : EPOCH 17 - PROGRESS: at 79.81% examples, 714139 words/s, in_qsize 11, out_qsize 2\n",
      "2020-06-06 01:32:42,659 : INFO : EPOCH 17 - PROGRESS: at 89.23% examples, 718644 words/s, in_qsize 14, out_qsize 0\n",
      "2020-06-06 01:32:43,647 : INFO : worker thread finished; awaiting finish of 6 more threads\n",
      "2020-06-06 01:32:43,649 : INFO : worker thread finished; awaiting finish of 5 more threads\n",
      "2020-06-06 01:32:43,661 : INFO : EPOCH 17 - PROGRESS: at 99.62% examples, 730481 words/s, in_qsize 4, out_qsize 1\n",
      "2020-06-06 01:32:43,662 : INFO : worker thread finished; awaiting finish of 4 more threads\n",
      "2020-06-06 01:32:43,667 : INFO : worker thread finished; awaiting finish of 3 more threads\n",
      "2020-06-06 01:32:43,669 : INFO : worker thread finished; awaiting finish of 2 more threads\n",
      "2020-06-06 01:32:43,673 : INFO : worker thread finished; awaiting finish of 1 more threads\n",
      "2020-06-06 01:32:43,704 : INFO : worker thread finished; awaiting finish of 0 more threads\n",
      "2020-06-06 01:32:43,706 : INFO : EPOCH - 17 : training on 9140715 raw words (8193866 effective words) took 11.2s, 730314 effective words/s\n",
      "2020-06-06 01:32:44,745 : INFO : EPOCH 18 - PROGRESS: at 6.87% examples, 550599 words/s, in_qsize 11, out_qsize 2\n",
      "2020-06-06 01:32:45,760 : INFO : EPOCH 18 - PROGRESS: at 14.63% examples, 588439 words/s, in_qsize 13, out_qsize 0\n",
      "2020-06-06 01:32:46,806 : INFO : EPOCH 18 - PROGRESS: at 24.16% examples, 641368 words/s, in_qsize 11, out_qsize 2\n",
      "2020-06-06 01:32:47,826 : INFO : EPOCH 18 - PROGRESS: at 34.12% examples, 680606 words/s, in_qsize 13, out_qsize 0\n",
      "2020-06-06 01:32:48,834 : INFO : EPOCH 18 - PROGRESS: at 42.33% examples, 677837 words/s, in_qsize 14, out_qsize 3\n",
      "2020-06-06 01:32:49,858 : INFO : EPOCH 18 - PROGRESS: at 52.50% examples, 700571 words/s, in_qsize 13, out_qsize 0\n",
      "2020-06-06 01:32:50,870 : INFO : EPOCH 18 - PROGRESS: at 62.22% examples, 712934 words/s, in_qsize 12, out_qsize 1\n",
      "2020-06-06 01:32:51,922 : INFO : EPOCH 18 - PROGRESS: at 71.18% examples, 711002 words/s, in_qsize 14, out_qsize 0\n"
     ]
    },
    {
     "name": "stderr",
     "output_type": "stream",
     "text": [
      "2020-06-06 01:32:52,925 : INFO : EPOCH 18 - PROGRESS: at 80.25% examples, 714292 words/s, in_qsize 11, out_qsize 2\n",
      "2020-06-06 01:32:53,940 : INFO : EPOCH 18 - PROGRESS: at 90.20% examples, 723116 words/s, in_qsize 13, out_qsize 0\n",
      "2020-06-06 01:32:54,821 : INFO : worker thread finished; awaiting finish of 6 more threads\n",
      "2020-06-06 01:32:54,841 : INFO : worker thread finished; awaiting finish of 5 more threads\n",
      "2020-06-06 01:32:54,847 : INFO : worker thread finished; awaiting finish of 4 more threads\n",
      "2020-06-06 01:32:54,849 : INFO : worker thread finished; awaiting finish of 3 more threads\n",
      "2020-06-06 01:32:54,850 : INFO : worker thread finished; awaiting finish of 2 more threads\n",
      "2020-06-06 01:32:54,854 : INFO : worker thread finished; awaiting finish of 1 more threads\n",
      "2020-06-06 01:32:54,866 : INFO : worker thread finished; awaiting finish of 0 more threads\n",
      "2020-06-06 01:32:54,867 : INFO : EPOCH - 18 : training on 9140715 raw words (8191930 effective words) took 11.1s, 734817 effective words/s\n",
      "2020-06-06 01:32:55,899 : INFO : EPOCH 19 - PROGRESS: at 8.19% examples, 660842 words/s, in_qsize 13, out_qsize 1\n",
      "2020-06-06 01:32:56,923 : INFO : EPOCH 19 - PROGRESS: at 17.37% examples, 698106 words/s, in_qsize 10, out_qsize 3\n",
      "2020-06-06 01:32:57,954 : INFO : EPOCH 19 - PROGRESS: at 27.34% examples, 729032 words/s, in_qsize 13, out_qsize 0\n",
      "2020-06-06 01:32:58,959 : INFO : EPOCH 19 - PROGRESS: at 37.73% examples, 758396 words/s, in_qsize 13, out_qsize 0\n",
      "2020-06-06 01:32:59,977 : INFO : EPOCH 19 - PROGRESS: at 48.01% examples, 771989 words/s, in_qsize 13, out_qsize 0\n",
      "2020-06-06 01:33:00,981 : INFO : EPOCH 19 - PROGRESS: at 58.29% examples, 782995 words/s, in_qsize 14, out_qsize 0\n",
      "2020-06-06 01:33:01,994 : INFO : EPOCH 19 - PROGRESS: at 68.12% examples, 784882 words/s, in_qsize 13, out_qsize 0\n",
      "2020-06-06 01:33:02,997 : INFO : EPOCH 19 - PROGRESS: at 78.51% examples, 792735 words/s, in_qsize 12, out_qsize 1\n",
      "2020-06-06 01:33:04,054 : INFO : EPOCH 19 - PROGRESS: at 88.46% examples, 790368 words/s, in_qsize 12, out_qsize 1\n",
      "2020-06-06 01:33:05,062 : INFO : EPOCH 19 - PROGRESS: at 98.42% examples, 792226 words/s, in_qsize 9, out_qsize 4\n",
      "2020-06-06 01:33:05,146 : INFO : worker thread finished; awaiting finish of 6 more threads\n",
      "2020-06-06 01:33:05,151 : INFO : worker thread finished; awaiting finish of 5 more threads\n",
      "2020-06-06 01:33:05,156 : INFO : worker thread finished; awaiting finish of 4 more threads\n",
      "2020-06-06 01:33:05,160 : INFO : worker thread finished; awaiting finish of 3 more threads\n",
      "2020-06-06 01:33:05,162 : INFO : worker thread finished; awaiting finish of 2 more threads\n",
      "2020-06-06 01:33:05,164 : INFO : worker thread finished; awaiting finish of 1 more threads\n",
      "2020-06-06 01:33:05,173 : INFO : worker thread finished; awaiting finish of 0 more threads\n",
      "2020-06-06 01:33:05,174 : INFO : EPOCH - 19 : training on 9140715 raw words (8194298 effective words) took 10.3s, 796202 effective words/s\n",
      "2020-06-06 01:33:06,212 : INFO : EPOCH 20 - PROGRESS: at 8.52% examples, 682909 words/s, in_qsize 13, out_qsize 0\n",
      "2020-06-06 01:33:07,212 : INFO : EPOCH 20 - PROGRESS: at 17.92% examples, 726169 words/s, in_qsize 13, out_qsize 0\n",
      "2020-06-06 01:33:08,213 : INFO : EPOCH 20 - PROGRESS: at 27.78% examples, 752427 words/s, in_qsize 13, out_qsize 0\n",
      "2020-06-06 01:33:09,229 : INFO : EPOCH 20 - PROGRESS: at 38.17% examples, 773985 words/s, in_qsize 13, out_qsize 0\n",
      "2020-06-06 01:33:10,278 : INFO : EPOCH 20 - PROGRESS: at 47.57% examples, 765756 words/s, in_qsize 10, out_qsize 3\n",
      "2020-06-06 01:33:11,305 : INFO : EPOCH 20 - PROGRESS: at 57.96% examples, 776365 words/s, in_qsize 13, out_qsize 2\n",
      "2020-06-06 01:33:12,310 : INFO : EPOCH 20 - PROGRESS: at 67.68% examples, 778817 words/s, in_qsize 8, out_qsize 5\n",
      "2020-06-06 01:33:13,335 : INFO : EPOCH 20 - PROGRESS: at 77.53% examples, 779775 words/s, in_qsize 13, out_qsize 3\n",
      "2020-06-06 01:33:14,340 : INFO : EPOCH 20 - PROGRESS: at 87.36% examples, 782285 words/s, in_qsize 12, out_qsize 4\n",
      "2020-06-06 01:33:15,365 : INFO : EPOCH 20 - PROGRESS: at 97.00% examples, 781033 words/s, in_qsize 13, out_qsize 0\n",
      "2020-06-06 01:33:15,591 : INFO : worker thread finished; awaiting finish of 6 more threads\n",
      "2020-06-06 01:33:15,615 : INFO : worker thread finished; awaiting finish of 5 more threads\n",
      "2020-06-06 01:33:15,623 : INFO : worker thread finished; awaiting finish of 4 more threads\n",
      "2020-06-06 01:33:15,634 : INFO : worker thread finished; awaiting finish of 3 more threads\n",
      "2020-06-06 01:33:15,637 : INFO : worker thread finished; awaiting finish of 2 more threads\n",
      "2020-06-06 01:33:15,646 : INFO : worker thread finished; awaiting finish of 1 more threads\n",
      "2020-06-06 01:33:15,647 : INFO : worker thread finished; awaiting finish of 0 more threads\n",
      "2020-06-06 01:33:15,648 : INFO : EPOCH - 20 : training on 9140715 raw words (8193493 effective words) took 10.5s, 783414 effective words/s\n",
      "2020-06-06 01:33:16,677 : INFO : EPOCH 21 - PROGRESS: at 8.19% examples, 662273 words/s, in_qsize 13, out_qsize 0\n",
      "2020-06-06 01:33:17,684 : INFO : EPOCH 21 - PROGRESS: at 17.26% examples, 700296 words/s, in_qsize 13, out_qsize 0\n",
      "2020-06-06 01:33:18,701 : INFO : EPOCH 21 - PROGRESS: at 26.68% examples, 719405 words/s, in_qsize 13, out_qsize 0\n",
      "2020-06-06 01:33:19,745 : INFO : EPOCH 21 - PROGRESS: at 36.53% examples, 732863 words/s, in_qsize 14, out_qsize 2\n",
      "2020-06-06 01:33:20,749 : INFO : EPOCH 21 - PROGRESS: at 47.03% examples, 757317 words/s, in_qsize 12, out_qsize 1\n",
      "2020-06-06 01:33:21,767 : INFO : EPOCH 21 - PROGRESS: at 56.22% examples, 754425 words/s, in_qsize 11, out_qsize 0\n",
      "2020-06-06 01:33:22,781 : INFO : EPOCH 21 - PROGRESS: at 66.15% examples, 761444 words/s, in_qsize 13, out_qsize 0\n",
      "2020-06-06 01:33:23,782 : INFO : EPOCH 21 - PROGRESS: at 75.89% examples, 765698 words/s, in_qsize 13, out_qsize 0\n",
      "2020-06-06 01:33:24,812 : INFO : EPOCH 21 - PROGRESS: at 84.85% examples, 759820 words/s, in_qsize 14, out_qsize 1\n",
      "2020-06-06 01:33:25,829 : INFO : EPOCH 21 - PROGRESS: at 94.69% examples, 763148 words/s, in_qsize 12, out_qsize 1\n",
      "2020-06-06 01:33:26,329 : INFO : worker thread finished; awaiting finish of 6 more threads\n",
      "2020-06-06 01:33:26,346 : INFO : worker thread finished; awaiting finish of 5 more threads\n",
      "2020-06-06 01:33:26,354 : INFO : worker thread finished; awaiting finish of 4 more threads\n",
      "2020-06-06 01:33:26,360 : INFO : worker thread finished; awaiting finish of 3 more threads\n",
      "2020-06-06 01:33:26,362 : INFO : worker thread finished; awaiting finish of 2 more threads\n",
      "2020-06-06 01:33:26,363 : INFO : worker thread finished; awaiting finish of 1 more threads\n",
      "2020-06-06 01:33:26,365 : INFO : worker thread finished; awaiting finish of 0 more threads\n",
      "2020-06-06 01:33:26,366 : INFO : EPOCH - 21 : training on 9140715 raw words (8192732 effective words) took 10.7s, 765448 effective words/s\n",
      "2020-06-06 01:33:27,438 : INFO : EPOCH 22 - PROGRESS: at 8.63% examples, 670089 words/s, in_qsize 14, out_qsize 0\n",
      "2020-06-06 01:33:28,456 : INFO : EPOCH 22 - PROGRESS: at 18.91% examples, 747115 words/s, in_qsize 14, out_qsize 1\n",
      "2020-06-06 01:33:29,483 : INFO : EPOCH 22 - PROGRESS: at 28.87% examples, 762598 words/s, in_qsize 13, out_qsize 0\n",
      "2020-06-06 01:33:30,511 : INFO : EPOCH 22 - PROGRESS: at 39.48% examples, 783318 words/s, in_qsize 12, out_qsize 1\n",
      "2020-06-06 01:33:31,541 : INFO : EPOCH 22 - PROGRESS: at 49.75% examples, 790175 words/s, in_qsize 14, out_qsize 1\n",
      "2020-06-06 01:33:32,565 : INFO : EPOCH 22 - PROGRESS: at 60.26% examples, 798331 words/s, in_qsize 14, out_qsize 1\n",
      "2020-06-06 01:33:33,591 : INFO : EPOCH 22 - PROGRESS: at 69.87% examples, 794120 words/s, in_qsize 12, out_qsize 1\n",
      "2020-06-06 01:33:34,596 : INFO : EPOCH 22 - PROGRESS: at 79.16% examples, 789613 words/s, in_qsize 14, out_qsize 1\n",
      "2020-06-06 01:33:35,597 : INFO : EPOCH 22 - PROGRESS: at 88.46% examples, 786455 words/s, in_qsize 12, out_qsize 1\n",
      "2020-06-06 01:33:36,619 : INFO : EPOCH 22 - PROGRESS: at 98.42% examples, 787605 words/s, in_qsize 12, out_qsize 1\n",
      "2020-06-06 01:33:36,690 : INFO : worker thread finished; awaiting finish of 6 more threads\n",
      "2020-06-06 01:33:36,699 : INFO : worker thread finished; awaiting finish of 5 more threads\n",
      "2020-06-06 01:33:36,700 : INFO : worker thread finished; awaiting finish of 4 more threads\n"
     ]
    },
    {
     "name": "stderr",
     "output_type": "stream",
     "text": [
      "2020-06-06 01:33:36,702 : INFO : worker thread finished; awaiting finish of 3 more threads\n",
      "2020-06-06 01:33:36,706 : INFO : worker thread finished; awaiting finish of 2 more threads\n",
      "2020-06-06 01:33:36,709 : INFO : worker thread finished; awaiting finish of 1 more threads\n",
      "2020-06-06 01:33:36,715 : INFO : worker thread finished; awaiting finish of 0 more threads\n",
      "2020-06-06 01:33:36,716 : INFO : EPOCH - 22 : training on 9140715 raw words (8192023 effective words) took 10.3s, 792738 effective words/s\n",
      "2020-06-06 01:33:37,736 : INFO : EPOCH 23 - PROGRESS: at 8.63% examples, 702618 words/s, in_qsize 13, out_qsize 0\n",
      "2020-06-06 01:33:38,755 : INFO : EPOCH 23 - PROGRESS: at 17.59% examples, 711803 words/s, in_qsize 13, out_qsize 0\n",
      "2020-06-06 01:33:39,774 : INFO : EPOCH 23 - PROGRESS: at 27.34% examples, 735351 words/s, in_qsize 12, out_qsize 1\n",
      "2020-06-06 01:33:40,803 : INFO : EPOCH 23 - PROGRESS: at 37.08% examples, 745537 words/s, in_qsize 11, out_qsize 2\n",
      "2020-06-06 01:33:41,809 : INFO : EPOCH 23 - PROGRESS: at 46.27% examples, 745825 words/s, in_qsize 14, out_qsize 2\n",
      "2020-06-06 01:33:42,817 : INFO : EPOCH 23 - PROGRESS: at 55.66% examples, 749033 words/s, in_qsize 11, out_qsize 2\n",
      "2020-06-06 01:33:43,819 : INFO : EPOCH 23 - PROGRESS: at 65.06% examples, 751790 words/s, in_qsize 9, out_qsize 4\n",
      "2020-06-06 01:33:44,827 : INFO : EPOCH 23 - PROGRESS: at 75.12% examples, 759964 words/s, in_qsize 13, out_qsize 0\n",
      "2020-06-06 01:33:45,862 : INFO : EPOCH 23 - PROGRESS: at 85.17% examples, 764038 words/s, in_qsize 9, out_qsize 4\n",
      "2020-06-06 01:33:46,863 : INFO : EPOCH 23 - PROGRESS: at 95.24% examples, 769935 words/s, in_qsize 12, out_qsize 1\n",
      "2020-06-06 01:33:47,281 : INFO : worker thread finished; awaiting finish of 6 more threads\n",
      "2020-06-06 01:33:47,310 : INFO : worker thread finished; awaiting finish of 5 more threads\n",
      "2020-06-06 01:33:47,313 : INFO : worker thread finished; awaiting finish of 4 more threads\n",
      "2020-06-06 01:33:47,320 : INFO : worker thread finished; awaiting finish of 3 more threads\n",
      "2020-06-06 01:33:47,321 : INFO : worker thread finished; awaiting finish of 2 more threads\n",
      "2020-06-06 01:33:47,328 : INFO : worker thread finished; awaiting finish of 1 more threads\n",
      "2020-06-06 01:33:47,339 : INFO : worker thread finished; awaiting finish of 0 more threads\n",
      "2020-06-06 01:33:47,340 : INFO : EPOCH - 23 : training on 9140715 raw words (8192585 effective words) took 10.6s, 772073 effective words/s\n",
      "2020-06-06 01:33:48,354 : INFO : EPOCH 24 - PROGRESS: at 8.52% examples, 697923 words/s, in_qsize 12, out_qsize 1\n",
      "2020-06-06 01:33:49,359 : INFO : EPOCH 24 - PROGRESS: at 18.69% examples, 763736 words/s, in_qsize 13, out_qsize 0\n",
      "2020-06-06 01:33:50,381 : INFO : EPOCH 24 - PROGRESS: at 29.30% examples, 792990 words/s, in_qsize 14, out_qsize 0\n",
      "2020-06-06 01:33:51,385 : INFO : EPOCH 24 - PROGRESS: at 39.38% examples, 799875 words/s, in_qsize 14, out_qsize 1\n",
      "2020-06-06 01:33:52,408 : INFO : EPOCH 24 - PROGRESS: at 49.87% examples, 808104 words/s, in_qsize 13, out_qsize 0\n",
      "2020-06-06 01:33:53,435 : INFO : EPOCH 24 - PROGRESS: at 60.37% examples, 813135 words/s, in_qsize 13, out_qsize 0\n",
      "2020-06-06 01:33:54,451 : INFO : EPOCH 24 - PROGRESS: at 70.42% examples, 812950 words/s, in_qsize 12, out_qsize 1\n",
      "2020-06-06 01:33:55,452 : INFO : EPOCH 24 - PROGRESS: at 79.38% examples, 803081 words/s, in_qsize 14, out_qsize 1\n",
      "2020-06-06 01:33:56,457 : INFO : EPOCH 24 - PROGRESS: at 87.69% examples, 789270 words/s, in_qsize 13, out_qsize 0\n",
      "2020-06-06 01:33:57,471 : INFO : EPOCH 24 - PROGRESS: at 96.56% examples, 781900 words/s, in_qsize 13, out_qsize 0\n",
      "2020-06-06 01:33:57,768 : INFO : worker thread finished; awaiting finish of 6 more threads\n",
      "2020-06-06 01:33:57,783 : INFO : worker thread finished; awaiting finish of 5 more threads\n",
      "2020-06-06 01:33:57,793 : INFO : worker thread finished; awaiting finish of 4 more threads\n",
      "2020-06-06 01:33:57,794 : INFO : worker thread finished; awaiting finish of 3 more threads\n",
      "2020-06-06 01:33:57,804 : INFO : worker thread finished; awaiting finish of 2 more threads\n",
      "2020-06-06 01:33:57,811 : INFO : worker thread finished; awaiting finish of 1 more threads\n",
      "2020-06-06 01:33:57,812 : INFO : worker thread finished; awaiting finish of 0 more threads\n",
      "2020-06-06 01:33:57,813 : INFO : EPOCH - 24 : training on 9140715 raw words (8193177 effective words) took 10.5s, 783211 effective words/s\n",
      "2020-06-06 01:33:58,834 : INFO : EPOCH 25 - PROGRESS: at 7.97% examples, 650403 words/s, in_qsize 14, out_qsize 0\n",
      "2020-06-06 01:33:59,852 : INFO : EPOCH 25 - PROGRESS: at 16.93% examples, 686223 words/s, in_qsize 12, out_qsize 5\n",
      "2020-06-06 01:34:00,865 : INFO : EPOCH 25 - PROGRESS: at 27.34% examples, 737418 words/s, in_qsize 13, out_qsize 0\n",
      "2020-06-06 01:34:01,876 : INFO : EPOCH 25 - PROGRESS: at 36.31% examples, 734855 words/s, in_qsize 14, out_qsize 0\n",
      "2020-06-06 01:34:02,878 : INFO : EPOCH 25 - PROGRESS: at 45.93% examples, 745304 words/s, in_qsize 13, out_qsize 0\n",
      "2020-06-06 01:34:03,890 : INFO : EPOCH 25 - PROGRESS: at 53.92% examples, 728599 words/s, in_qsize 14, out_qsize 0\n",
      "2020-06-06 01:34:04,934 : INFO : EPOCH 25 - PROGRESS: at 62.33% examples, 718656 words/s, in_qsize 13, out_qsize 0\n",
      "2020-06-06 01:34:05,943 : INFO : EPOCH 25 - PROGRESS: at 69.11% examples, 697776 words/s, in_qsize 13, out_qsize 1\n",
      "2020-06-06 01:34:06,986 : INFO : EPOCH 25 - PROGRESS: at 76.11% examples, 680876 words/s, in_qsize 13, out_qsize 0\n",
      "2020-06-06 01:34:08,036 : INFO : EPOCH 25 - PROGRESS: at 83.97% examples, 674028 words/s, in_qsize 14, out_qsize 2\n",
      "2020-06-06 01:34:09,057 : INFO : EPOCH 25 - PROGRESS: at 93.82% examples, 684625 words/s, in_qsize 13, out_qsize 0\n",
      "2020-06-06 01:34:09,805 : INFO : worker thread finished; awaiting finish of 6 more threads\n",
      "2020-06-06 01:34:09,823 : INFO : worker thread finished; awaiting finish of 5 more threads\n",
      "2020-06-06 01:34:09,832 : INFO : worker thread finished; awaiting finish of 4 more threads\n",
      "2020-06-06 01:34:09,851 : INFO : worker thread finished; awaiting finish of 3 more threads\n",
      "2020-06-06 01:34:09,857 : INFO : worker thread finished; awaiting finish of 2 more threads\n",
      "2020-06-06 01:34:09,858 : INFO : worker thread finished; awaiting finish of 1 more threads\n",
      "2020-06-06 01:34:09,860 : INFO : worker thread finished; awaiting finish of 0 more threads\n",
      "2020-06-06 01:34:09,861 : INFO : EPOCH - 25 : training on 9140715 raw words (8193247 effective words) took 12.0s, 680910 effective words/s\n",
      "2020-06-06 01:34:10,887 : INFO : EPOCH 26 - PROGRESS: at 7.20% examples, 585904 words/s, in_qsize 13, out_qsize 0\n",
      "2020-06-06 01:34:11,916 : INFO : EPOCH 26 - PROGRESS: at 15.29% examples, 615423 words/s, in_qsize 13, out_qsize 0\n",
      "2020-06-06 01:34:12,921 : INFO : EPOCH 26 - PROGRESS: at 22.96% examples, 618288 words/s, in_qsize 14, out_qsize 0\n",
      "2020-06-06 01:34:13,931 : INFO : EPOCH 26 - PROGRESS: at 30.84% examples, 623173 words/s, in_qsize 14, out_qsize 0\n",
      "2020-06-06 01:34:14,938 : INFO : EPOCH 26 - PROGRESS: at 38.83% examples, 628478 words/s, in_qsize 12, out_qsize 1\n",
      "2020-06-06 01:34:15,961 : INFO : EPOCH 26 - PROGRESS: at 47.35% examples, 637606 words/s, in_qsize 14, out_qsize 0\n",
      "2020-06-06 01:34:16,962 : INFO : EPOCH 26 - PROGRESS: at 54.79% examples, 633508 words/s, in_qsize 13, out_qsize 0\n",
      "2020-06-06 01:34:17,986 : INFO : EPOCH 26 - PROGRESS: at 62.33% examples, 629691 words/s, in_qsize 12, out_qsize 1\n",
      "2020-06-06 01:34:19,048 : INFO : EPOCH 26 - PROGRESS: at 68.89% examples, 615456 words/s, in_qsize 14, out_qsize 0\n",
      "2020-06-06 01:34:20,083 : INFO : EPOCH 26 - PROGRESS: at 76.54% examples, 614454 words/s, in_qsize 13, out_qsize 0\n",
      "2020-06-06 01:34:21,109 : INFO : EPOCH 26 - PROGRESS: at 83.31% examples, 607779 words/s, in_qsize 14, out_qsize 0\n",
      "2020-06-06 01:34:22,114 : INFO : EPOCH 26 - PROGRESS: at 92.50% examples, 619351 words/s, in_qsize 13, out_qsize 0\n",
      "2020-06-06 01:34:22,830 : INFO : worker thread finished; awaiting finish of 6 more threads\n",
      "2020-06-06 01:34:22,834 : INFO : worker thread finished; awaiting finish of 5 more threads\n",
      "2020-06-06 01:34:22,837 : INFO : worker thread finished; awaiting finish of 4 more threads\n",
      "2020-06-06 01:34:22,839 : INFO : worker thread finished; awaiting finish of 3 more threads\n",
      "2020-06-06 01:34:22,846 : INFO : worker thread finished; awaiting finish of 2 more threads\n"
     ]
    },
    {
     "name": "stderr",
     "output_type": "stream",
     "text": [
      "2020-06-06 01:34:22,848 : INFO : worker thread finished; awaiting finish of 1 more threads\n",
      "2020-06-06 01:34:22,861 : INFO : worker thread finished; awaiting finish of 0 more threads\n",
      "2020-06-06 01:34:22,862 : INFO : EPOCH - 26 : training on 9140715 raw words (8192225 effective words) took 13.0s, 630955 effective words/s\n",
      "2020-06-06 01:34:23,880 : INFO : EPOCH 27 - PROGRESS: at 8.19% examples, 669602 words/s, in_qsize 11, out_qsize 4\n",
      "2020-06-06 01:34:24,889 : INFO : EPOCH 27 - PROGRESS: at 18.91% examples, 770153 words/s, in_qsize 13, out_qsize 0\n",
      "2020-06-06 01:34:25,923 : INFO : EPOCH 27 - PROGRESS: at 29.96% examples, 805588 words/s, in_qsize 13, out_qsize 0\n",
      "2020-06-06 01:34:26,936 : INFO : EPOCH 27 - PROGRESS: at 39.81% examples, 803400 words/s, in_qsize 13, out_qsize 0\n",
      "2020-06-06 01:34:27,953 : INFO : EPOCH 27 - PROGRESS: at 49.31% examples, 795936 words/s, in_qsize 12, out_qsize 1\n",
      "2020-06-06 01:34:28,971 : INFO : EPOCH 27 - PROGRESS: at 59.93% examples, 805569 words/s, in_qsize 13, out_qsize 0\n",
      "2020-06-06 01:34:29,981 : INFO : EPOCH 27 - PROGRESS: at 70.09% examples, 808403 words/s, in_qsize 13, out_qsize 0\n",
      "2020-06-06 01:34:31,028 : INFO : EPOCH 27 - PROGRESS: at 79.27% examples, 796890 words/s, in_qsize 14, out_qsize 1\n",
      "2020-06-06 01:34:32,048 : INFO : EPOCH 27 - PROGRESS: at 89.66% examples, 801054 words/s, in_qsize 13, out_qsize 4\n",
      "2020-06-06 01:34:32,885 : INFO : worker thread finished; awaiting finish of 6 more threads\n",
      "2020-06-06 01:34:32,894 : INFO : worker thread finished; awaiting finish of 5 more threads\n",
      "2020-06-06 01:34:32,899 : INFO : worker thread finished; awaiting finish of 4 more threads\n",
      "2020-06-06 01:34:32,900 : INFO : worker thread finished; awaiting finish of 3 more threads\n",
      "2020-06-06 01:34:32,914 : INFO : worker thread finished; awaiting finish of 2 more threads\n",
      "2020-06-06 01:34:32,920 : INFO : worker thread finished; awaiting finish of 1 more threads\n",
      "2020-06-06 01:34:32,924 : INFO : worker thread finished; awaiting finish of 0 more threads\n",
      "2020-06-06 01:34:32,925 : INFO : EPOCH - 27 : training on 9140715 raw words (8193740 effective words) took 10.0s, 815352 effective words/s\n",
      "2020-06-06 01:34:33,945 : INFO : EPOCH 28 - PROGRESS: at 8.51% examples, 695303 words/s, in_qsize 14, out_qsize 1\n",
      "2020-06-06 01:34:34,954 : INFO : EPOCH 28 - PROGRESS: at 18.14% examples, 738237 words/s, in_qsize 14, out_qsize 1\n",
      "2020-06-06 01:34:35,960 : INFO : EPOCH 28 - PROGRESS: at 28.76% examples, 779927 words/s, in_qsize 13, out_qsize 0\n",
      "2020-06-06 01:34:36,971 : INFO : EPOCH 28 - PROGRESS: at 37.73% examples, 766732 words/s, in_qsize 13, out_qsize 0\n",
      "2020-06-06 01:34:37,976 : INFO : EPOCH 28 - PROGRESS: at 47.14% examples, 766632 words/s, in_qsize 13, out_qsize 0\n",
      "2020-06-06 01:34:38,980 : INFO : EPOCH 28 - PROGRESS: at 57.85% examples, 784469 words/s, in_qsize 12, out_qsize 1\n",
      "2020-06-06 01:34:39,985 : INFO : EPOCH 28 - PROGRESS: at 68.34% examples, 794794 words/s, in_qsize 11, out_qsize 2\n",
      "2020-06-06 01:34:40,986 : INFO : EPOCH 28 - PROGRESS: at 77.74% examples, 791680 words/s, in_qsize 13, out_qsize 0\n",
      "2020-06-06 01:34:42,001 : INFO : EPOCH 28 - PROGRESS: at 88.02% examples, 795917 words/s, in_qsize 11, out_qsize 1\n",
      "2020-06-06 01:34:43,029 : INFO : EPOCH 28 - PROGRESS: at 98.75% examples, 801815 words/s, in_qsize 12, out_qsize 0\n",
      "2020-06-06 01:34:43,068 : INFO : worker thread finished; awaiting finish of 6 more threads\n",
      "2020-06-06 01:34:43,091 : INFO : worker thread finished; awaiting finish of 5 more threads\n",
      "2020-06-06 01:34:43,099 : INFO : worker thread finished; awaiting finish of 4 more threads\n",
      "2020-06-06 01:34:43,108 : INFO : worker thread finished; awaiting finish of 3 more threads\n",
      "2020-06-06 01:34:43,110 : INFO : worker thread finished; awaiting finish of 2 more threads\n",
      "2020-06-06 01:34:43,111 : INFO : worker thread finished; awaiting finish of 1 more threads\n",
      "2020-06-06 01:34:43,116 : INFO : worker thread finished; awaiting finish of 0 more threads\n",
      "2020-06-06 01:34:43,117 : INFO : EPOCH - 28 : training on 9140715 raw words (8192299 effective words) took 10.2s, 805015 effective words/s\n",
      "2020-06-06 01:34:44,139 : INFO : EPOCH 29 - PROGRESS: at 8.84% examples, 720059 words/s, in_qsize 13, out_qsize 0\n",
      "2020-06-06 01:34:45,144 : INFO : EPOCH 29 - PROGRESS: at 18.91% examples, 770193 words/s, in_qsize 13, out_qsize 0\n",
      "2020-06-06 01:34:46,156 : INFO : EPOCH 29 - PROGRESS: at 30.07% examples, 814364 words/s, in_qsize 13, out_qsize 2\n",
      "2020-06-06 01:34:47,156 : INFO : EPOCH 29 - PROGRESS: at 40.79% examples, 830261 words/s, in_qsize 13, out_qsize 0\n",
      "2020-06-06 01:34:48,165 : INFO : EPOCH 29 - PROGRESS: at 49.97% examples, 813307 words/s, in_qsize 11, out_qsize 2\n",
      "2020-06-06 01:34:49,192 : INFO : EPOCH 29 - PROGRESS: at 58.61% examples, 792305 words/s, in_qsize 14, out_qsize 0\n",
      "2020-06-06 01:34:50,214 : INFO : EPOCH 29 - PROGRESS: at 69.00% examples, 798144 words/s, in_qsize 14, out_qsize 0\n",
      "2020-06-06 01:34:51,255 : INFO : EPOCH 29 - PROGRESS: at 79.27% examples, 799550 words/s, in_qsize 10, out_qsize 3\n",
      "2020-06-06 01:34:52,326 : INFO : EPOCH 29 - PROGRESS: at 89.34% examples, 796105 words/s, in_qsize 13, out_qsize 3\n",
      "2020-06-06 01:34:53,246 : INFO : worker thread finished; awaiting finish of 6 more threads\n",
      "2020-06-06 01:34:53,249 : INFO : worker thread finished; awaiting finish of 5 more threads\n",
      "2020-06-06 01:34:53,252 : INFO : worker thread finished; awaiting finish of 4 more threads\n",
      "2020-06-06 01:34:53,257 : INFO : worker thread finished; awaiting finish of 3 more threads\n",
      "2020-06-06 01:34:53,265 : INFO : worker thread finished; awaiting finish of 2 more threads\n",
      "2020-06-06 01:34:53,266 : INFO : worker thread finished; awaiting finish of 1 more threads\n",
      "2020-06-06 01:34:53,276 : INFO : worker thread finished; awaiting finish of 0 more threads\n",
      "2020-06-06 01:34:53,277 : INFO : EPOCH - 29 : training on 9140715 raw words (8193095 effective words) took 10.1s, 807482 effective words/s\n",
      "2020-06-06 01:34:54,296 : INFO : EPOCH 30 - PROGRESS: at 8.41% examples, 686132 words/s, in_qsize 11, out_qsize 2\n",
      "2020-06-06 01:34:55,319 : INFO : EPOCH 30 - PROGRESS: at 17.92% examples, 724683 words/s, in_qsize 11, out_qsize 3\n",
      "2020-06-06 01:34:56,328 : INFO : EPOCH 30 - PROGRESS: at 28.10% examples, 758036 words/s, in_qsize 13, out_qsize 0\n",
      "2020-06-06 01:34:57,336 : INFO : EPOCH 30 - PROGRESS: at 37.95% examples, 768528 words/s, in_qsize 13, out_qsize 1\n",
      "2020-06-06 01:34:58,340 : INFO : EPOCH 30 - PROGRESS: at 48.01% examples, 778852 words/s, in_qsize 12, out_qsize 1\n",
      "2020-06-06 01:34:59,356 : INFO : EPOCH 30 - PROGRESS: at 57.42% examples, 775441 words/s, in_qsize 12, out_qsize 1\n",
      "2020-06-06 01:35:00,358 : INFO : EPOCH 30 - PROGRESS: at 67.24% examples, 779570 words/s, in_qsize 13, out_qsize 0\n",
      "2020-06-06 01:35:01,366 : INFO : EPOCH 30 - PROGRESS: at 77.42% examples, 785491 words/s, in_qsize 13, out_qsize 3\n",
      "2020-06-06 01:35:02,370 : INFO : EPOCH 30 - PROGRESS: at 88.46% examples, 798328 words/s, in_qsize 14, out_qsize 0\n",
      "2020-06-06 01:35:03,380 : INFO : EPOCH 30 - PROGRESS: at 97.88% examples, 794770 words/s, in_qsize 11, out_qsize 2\n",
      "2020-06-06 01:35:03,528 : INFO : worker thread finished; awaiting finish of 6 more threads\n",
      "2020-06-06 01:35:03,532 : INFO : worker thread finished; awaiting finish of 5 more threads\n",
      "2020-06-06 01:35:03,534 : INFO : worker thread finished; awaiting finish of 4 more threads\n",
      "2020-06-06 01:35:03,537 : INFO : worker thread finished; awaiting finish of 3 more threads\n",
      "2020-06-06 01:35:03,556 : INFO : worker thread finished; awaiting finish of 2 more threads\n",
      "2020-06-06 01:35:03,559 : INFO : worker thread finished; awaiting finish of 1 more threads\n",
      "2020-06-06 01:35:03,568 : INFO : worker thread finished; awaiting finish of 0 more threads\n",
      "2020-06-06 01:35:03,569 : INFO : EPOCH - 30 : training on 9140715 raw words (8192721 effective words) took 10.3s, 797065 effective words/s\n",
      "2020-06-06 01:35:03,569 : INFO : training on a 274221450 raw words (245791277 effective words) took 316.8s, 775937 effective words/s\n"
     ]
    },
    {
     "data": {
      "text/plain": [
       "(245791277, 274221450)"
      ]
     },
     "execution_count": 36,
     "metadata": {},
     "output_type": "execute_result"
    }
   ],
   "source": [
    "w2v_model.train(documents, total_examples=w2v_model.corpus_count, epochs=30)"
   ]
  },
  {
   "cell_type": "markdown",
   "metadata": {},
   "source": [
    "Aby zweryfikować jego działanie możemy wypisać podobne znaczeniowo słowa do danego wyrazu. Jeśli faktycznie będę podobne oznacza to, że mają one podobną reprezentację wektorową w naszym modelu - co chcieliśmy osiągnąć."
   ]
  },
  {
   "cell_type": "code",
   "execution_count": 37,
   "metadata": {},
   "outputs": [
    {
     "name": "stderr",
     "output_type": "stream",
     "text": [
      "C:\\Users\\LukMcCall\\anaconda3\\envs\\sentimental140\\lib\\site-packages\\ipykernel_launcher.py:1: DeprecationWarning: Call to deprecated `most_similar` (Method will be removed in 4.0.0, use self.wv.most_similar() instead).\n",
      "  \"\"\"Entry point for launching an IPython kernel.\n",
      "2020-06-06 01:35:03,579 : INFO : precomputing L2-norms of word weight vectors\n"
     ]
    },
    {
     "data": {
      "text/plain": [
       "[('dogs', 0.6410210728645325),\n",
       " ('puppy', 0.611770749092102),\n",
       " ('cat', 0.6063966751098633),\n",
       " ('doggy', 0.5756809711456299),\n",
       " ('kitty', 0.5448598861694336),\n",
       " ('doggie', 0.5443037748336792),\n",
       " ('kitten', 0.5287748575210571),\n",
       " ('chihuahua', 0.5141035318374634),\n",
       " ('pup', 0.512689471244812),\n",
       " ('yorkie', 0.4890669584274292)]"
      ]
     },
     "execution_count": 37,
     "metadata": {},
     "output_type": "execute_result"
    }
   ],
   "source": [
    "w2v_model.most_similar(\"dog\")"
   ]
  },
  {
   "cell_type": "code",
   "execution_count": 38,
   "metadata": {},
   "outputs": [
    {
     "name": "stderr",
     "output_type": "stream",
     "text": [
      "C:\\Users\\LukMcCall\\anaconda3\\envs\\sentimental140\\lib\\site-packages\\ipykernel_launcher.py:1: DeprecationWarning: Call to deprecated `most_similar` (Method will be removed in 4.0.0, use self.wv.most_similar() instead).\n",
      "  \"\"\"Entry point for launching an IPython kernel.\n"
     ]
    },
    {
     "data": {
      "text/plain": [
       "[('kitten', 0.6162850856781006),\n",
       " ('dog', 0.6063966751098633),\n",
       " ('kitty', 0.5769404768943787),\n",
       " ('cats', 0.5112762451171875),\n",
       " ('kittens', 0.4878285527229309),\n",
       " ('stray', 0.4843490719795227),\n",
       " ('puppy', 0.47568947076797485),\n",
       " ('doggy', 0.47321197390556335),\n",
       " ('claws', 0.4446293115615845),\n",
       " ('kitties', 0.44060754776000977)]"
      ]
     },
     "execution_count": 38,
     "metadata": {},
     "output_type": "execute_result"
    }
   ],
   "source": [
    "w2v_model.most_similar(\"cat\")"
   ]
  },
  {
   "cell_type": "markdown",
   "metadata": {},
   "source": [
    "# Zapisywanie"
   ]
  },
  {
   "cell_type": "markdown",
   "metadata": {},
   "source": [
    "Odpowiedź dawane przez nasz model wyglądają dobrze. Dlatego też możemy zoptymalizować i zapisać nasz model."
   ]
  },
  {
   "cell_type": "code",
   "execution_count": 39,
   "metadata": {},
   "outputs": [
    {
     "name": "stderr",
     "output_type": "stream",
     "text": [
      "2020-06-06 01:35:03,691 : INFO : precomputing L2-norms of word weight vectors\n",
      "2020-06-06 01:35:03,729 : INFO : saving Word2Vec object under W2V.model, separately None\n",
      "2020-06-06 01:35:03,730 : INFO : not storing attribute vectors_norm\n",
      "2020-06-06 01:35:03,730 : INFO : not storing attribute cum_table\n",
      "2020-06-06 01:35:04,860 : INFO : saved W2V.model\n"
     ]
    }
   ],
   "source": [
    "w2v_model.init_sims(replace = True)\n",
    "w2v_model.save(W2V_MODEL_PATH)"
   ]
  },
  {
   "cell_type": "markdown",
   "metadata": {},
   "source": [
    "Zapiszmy nasze przetworzone dane w formie `pickla`."
   ]
  },
  {
   "cell_type": "code",
   "execution_count": 40,
   "metadata": {},
   "outputs": [],
   "source": [
    "df_train.to_pickle(PREPROCESSED_TRAIN_PATH)\n",
    "df_test.to_pickle(PREPROCESSED_TEST_PATH)"
   ]
  },
  {
   "cell_type": "code",
   "execution_count": null,
   "metadata": {},
   "outputs": [],
   "source": []
  }
 ],
 "metadata": {
  "kernelspec": {
   "display_name": "Python 3",
   "language": "python",
   "name": "python3"
  },
  "language_info": {
   "codemirror_mode": {
    "name": "ipython",
    "version": 3
   },
   "file_extension": ".py",
   "mimetype": "text/x-python",
   "name": "python",
   "nbconvert_exporter": "python",
   "pygments_lexer": "ipython3",
   "version": "3.7.6"
  }
 },
 "nbformat": 4,
 "nbformat_minor": 2
}
